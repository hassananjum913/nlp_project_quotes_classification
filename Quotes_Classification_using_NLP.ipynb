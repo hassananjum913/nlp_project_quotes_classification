{
 "cells": [
  {
   "cell_type": "markdown",
   "id": "a3cda6d3",
   "metadata": {},
   "source": [
    "## Project Title: Quotes Classification using NLP"
   ]
  },
  {
   "cell_type": "markdown",
   "id": "ba37d1af",
   "metadata": {},
   "source": [
    "#### Importing Libraries"
   ]
  },
  {
   "cell_type": "code",
   "execution_count": 34,
   "id": "31b443bf",
   "metadata": {},
   "outputs": [],
   "source": [
    "import requests\n",
    "from bs4 import BeautifulSoup as bs4\n",
    "import pandas as pd\n",
    "import numpy as np\n",
    "import matplotlib.pyplot as plt\n",
    "import seaborn as sns\n",
    "import os\n",
    "\n",
    "%matplotlib inline"
   ]
  },
  {
   "cell_type": "markdown",
   "id": "470af3df",
   "metadata": {},
   "source": [
    "#### Website url details and target category extraction"
   ]
  },
  {
   "cell_type": "code",
   "execution_count": 45,
   "id": "1bc05d22",
   "metadata": {},
   "outputs": [],
   "source": [
    "url = 'https://www.brainyquote.com/topics/attitude-quotes'"
   ]
  },
  {
   "cell_type": "code",
   "execution_count": 22,
   "id": "9b8010d3",
   "metadata": {},
   "outputs": [],
   "source": [
    "quotes_data = []"
   ]
  },
  {
   "cell_type": "code",
   "execution_count": 23,
   "id": "56de31c7",
   "metadata": {},
   "outputs": [
    {
     "data": {
      "text/plain": [
       "['https:', '', 'www.brainyquote.com', 'topics', 'attitude-quotes']"
      ]
     },
     "execution_count": 23,
     "metadata": {},
     "output_type": "execute_result"
    }
   ],
   "source": [
    "quotes_url = url.split('/')\n",
    "quotes_url"
   ]
  },
  {
   "cell_type": "code",
   "execution_count": 24,
   "id": "f55f7c1f",
   "metadata": {},
   "outputs": [
    {
     "data": {
      "text/plain": [
       "'attitude-quotes'"
      ]
     },
     "execution_count": 24,
     "metadata": {},
     "output_type": "execute_result"
    }
   ],
   "source": [
    "quotes_cat = quotes_url[-1]\n",
    "quotes_cat"
   ]
  },
  {
   "cell_type": "markdown",
   "id": "d1cb2908",
   "metadata": {},
   "source": [
    "##### Website RAW data collection"
   ]
  },
  {
   "cell_type": "code",
   "execution_count": 70,
   "id": "52577ff2",
   "metadata": {},
   "outputs": [
    {
     "data": {
      "text/plain": [
       "b'\\n<!DOCTYPE html>\\n<html lang=\"en\">\\n<head>\\n<title>Music Quotes - BrainyQuote</title>\\n<meta name=\"robots\" content=\"all\">\\n<meta charset=\"utf-8\" />\\n<meta name=\"viewport\" content=\"width=device-width, initia'"
      ]
     },
     "execution_count": 70,
     "metadata": {},
     "output_type": "execute_result"
    }
   ],
   "source": [
    "data = requests.get(url)\n",
    "data.content[:200]"
   ]
  },
  {
   "cell_type": "markdown",
   "id": "b02919d2",
   "metadata": {},
   "source": [
    "#### Web Scrapping HTML Content form Website Raw Data"
   ]
  },
  {
   "cell_type": "code",
   "execution_count": 73,
   "id": "ec988fbc",
   "metadata": {
    "scrolled": true
   },
   "outputs": [
    {
     "data": {
      "text/plain": [
       "\n",
       "<!DOCTYPE html>\n",
       "\n",
       "<html lang=\"en\">\n",
       "<head>\n",
       "<title>Music Quotes - BrainyQuote</title>\n",
       "<meta content=\"all\" name=\"robots\"/>\n",
       "<meta charset=\"utf-8\">\n",
       "<meta content=\"width=device-width, initial-scale=1.0, viewport-fit=cover\" name=\"viewport\"/><meta content=\"Explore 1000 Music Quotes by authors including Bob Marley, Friedrich Nietzsche, and Plato at BrainyQuote.\" name=\"description\"/>\n",
       "<meta content=\"NOODP\" name=\"googlebot\"/>\n",
       "<meta content=\"12.5.5:4534226\" property=\"ver\"/>\n",
       "<meta content=\"IE=edge\" http-equiv=\"X-UA-Compatible\"/>\n",
       "<meta content=\"none\" name=\"msapplication-config\"/>\n",
       "<meta content=\"yes\" name=\"apple-mobile-web-app-capable\"/>\n",
       "<meta content=\"1631937872\" property=\"ts\"/>\n",
       "<meta content=\"BrainyQuote\" property=\"og:site_name\"/>\n",
       "<meta content=\"Music Quotes - BrainyQuote\" property=\"og:title\"/>\n",
       "<meta content=\"article\" property=\"og:type\"/>\n",
       "<meta content=\"Explore 1000 Music Quotes by authors including Bob Marley, Friedrich Nietzsche, and Plato at BrainyQuote.\" property=\"og:description\"/>\n",
       "<meta content=\"https://www.brainyquote.com/images/fbl.jpg\" property=\"og:image\"/>\n",
       "<meta content=\"image/jpeg\" property=\"og:image:type\"/>\n",
       "<meta content=\"200\" property=\"og:image:width\"/>\n",
       "<meta content=\"200\" property=\"og:image:height\"/>\n",
       "<meta content=\"summary_large_image\" name=\"twitter:card\"/>\n",
       "<meta content=\"@BrainyQuote\" name=\"twitter:site\"/>\n",
       "<meta content=\"916307096\" name=\"twitter:app:id:iphone\"/>\n",
       "<meta content=\"916307096\" name=\"twitter:app:id:ipad\"/>\n",
       "<meta content=\"@BrainyQuote\" name=\"twitter:creator\"/>\n",
       "<meta content=\"Music Quotes\" name=\"twitter:title\"/>\n",
       "<meta content='\"Music washes away from the soul the dust of everyday life.\" - Berthold Auerbach' name=\"twitter:description\"/>\n",
       "<meta content=\"https://www.brainyquote.com/photos_tr/en/b/bertholdauerbach/106857/bertholdauerbach1.jpg\" name=\"twitter:image\"/>\n",
       "<meta content=\"https://www.brainyquote.com/topics/music-quotes\" property=\"og:url\"/>\n",
       "<link href=\"https://www.brainyquote.com/topics/music-quotes\" rel=\"canonical\"/>\n",
       "<meta content=\"app-id=916307096\" name=\"apple-itunes-app\"/>\n",
       "<link href=\"https://www.brainyquote.com/topics/music-quotes_2\" rel=\"next\"/>\n",
       "<link href=\"/favicon.ico?cbv=3\" rel=\"icon\" type=\"image/x-icon\"/>\n",
       "<link href=\"/favicon.ico?cbv=3\" rel=\"shortcut icon\" type=\"image/x-icon\"/>\n",
       "<link href=\"/favicon-32x32.png\" rel=\"icon\" sizes=\"32x32\" type=\"image/png\"/>\n",
       "<link href=\"/favicon-96x96.png\" rel=\"icon\" sizes=\"96x96\" type=\"image/png\"/>\n",
       "<link href=\"/favicon-16x16.png\" rel=\"icon\" sizes=\"16x16\" type=\"image/png\"/>\n",
       "<link href=\"/manifest.json\" rel=\"manifest\"/>\n",
       "<meta content=\"BrainyQuote\" name=\"apple-mobile-web-app-title\"/>\n",
       "<meta content=\"BrainyQuote\" name=\"application-name\"/>\n",
       "<meta content=\"#2b5797\" name=\"msapplication-TileColor\"/>\n",
       "<meta content=\"/mstile-144x144.png\" name=\"msapplication-TileImage\"/>\n",
       "<meta content=\"/browserconfig.xml\" name=\"msapplication-config\"/>\n",
       "<meta content=\"#ffffff\" name=\"theme-color\"/>\n",
       "<link href=\"/st/css/4534226/ws_l_q.css\" media=\"screen, print\" rel=\"stylesheet\" type=\"text/css\"/>\n",
       "<script>\n",
       "JsLOG = [];\n",
       "document.BQ_START = new Date().getTime();\n",
       "window.infoRevn = {adMargin:900,auctTimeoutAdmin:900,bidDivs:false,ctTarg:{\"bq_ct\":\"t\",\"bq_pg\":\"f\",\"bq_tId\":\"132587\"},ddBullfrog:false,ddTLog:false,delayAuctionMargin:1100,firstInfScrollPos:3,forcebdrp:null,gaDisabledBasedOnPageType:false,infScrollSlotsPerAuction:2,infScrollSpacing:6,intlDrp:5,logPn:false,maxBidEnabled:true,maxBidMult:150,pbSyncDelay:3000,pbSyncsPerBidder:5,pubcid:true,revnOn:true,tadpole:false,usDrp:10};\n",
       "window.infoSvr = {RID:\"4534226\",country:\"IN\",isAws:true,isDev:false,isLocal:false,isProd:true,region:\"OTHER\",svrUID:\"i-0a73249890603c5e7\",svrVersion:\"12.5.5:4534226\"};\n",
       "window.infoReq = {abgrp:\"b\",cpageNum:1,curl:\"/topics/music-quotes\",domainId:\"t:132587\",gaPageType:\"topic\",langc:\"en\",lpageNum:17,vid:\"f472823d9bec2e094155ed7159cfd7b5\"};\n",
       "window.infoUI = {asyncScripts:[\"later\"],delayedScripts:[\"kgj2PQz45pb347\"],pageUsesGrid:true,pageUsesGridOnly:false,redirDom:true};\n",
       "document.BQ_ADCFG = {\"procfg\":{\"appnexus\":{\"adj\":\"0.99\"},\"indexExchange\":{\"adj\":\"0.98\"},\"openx\":{\"adj\":\"1.0\",\"sync\":true},\"pubmatic\":{\"adj\":\"0.96\",\"sync\":true},\"sovrn\":{\"adj\":\"0.98\"},\"rubicon\":{\"adj\":\"0.99\"},\"criteo\":{\"adj\":\"0.98\"}},\"placements\":[{\"elementId\":\"div-gpt-ad-1418667263920-4\",\"sizes\":[[300,250],[1,1]],\"masonryUseAllowed\":true,\"name\":\"/1008298/BQ_ros_square_300x250\",\"sn\":\"sqT\",\"bdrs\":{\"criteo\":{\"uf\":false,\"bfp\":0,\"zoneIds\":[1320648],\"adj\":0.98},\"appnexus\":{\"uf\":true,\"bfp\":0,\"plid\":6524299,\"adj\":0.99},\"pubmatic\":{\"uf\":true,\"bfp\":0,\"pubmaticName\":\"Square\"},\"rubicon\":{\"uf\":true,\"bfp\":0,\"zone\":457864,\"sizekey\":15,\"pos\":\"atf\",\"adj\":0.99},\"openx\":{\"uf\":true,\"bfp\":0,\"oxAdUnitId\":538124062},\"sovrn\":{\"uf\":true,\"bfp\":0,\"tags\":[{\"tagName\":\"Header_BQ_ros_square_300x250\",\"tagId\":335425,\"width\":300,\"height\":250}]},\"indexExchange\":{\"uf\":true,\"bfp\":0,\"tags\":[{\"tagName\":\"IE_Desktop_top_2\",\"tagId\":175234,\"tagNum\":2,\"width\":300,\"height\":250}]}},\"hbSizes\":[[300,250]]},{\"elementId\":\"div-gpt-ad-1418667263920-3\",\"sizes\":[[300,250],[1,1]],\"masonryUseAllowed\":true,\"name\":\"/1008298/BQ_ros_middle_300x250\",\"sn\":\"sqM\",\"bdrs\":{\"criteo\":{\"uf\":false,\"bfp\":0,\"zoneIds\":[1320647],\"adj\":0.98},\"appnexus\":{\"uf\":true,\"bfp\":0,\"plid\":6524304,\"adj\":0.99},\"pubmatic\":{\"uf\":true,\"bfp\":0,\"pubmaticName\":\"Middle\"},\"rubicon\":{\"uf\":true,\"bfp\":0,\"zone\":457866,\"sizekey\":15,\"pos\":\"atf\",\"adj\":0.99},\"openx\":{\"uf\":true,\"bfp\":0,\"oxAdUnitId\":538124063},\"sovrn\":{\"uf\":true,\"bfp\":0,\"tags\":[{\"tagName\":\"Header_BQ_ros_middle_300x250\",\"tagId\":335426,\"width\":300,\"height\":250}]},\"indexExchange\":{\"uf\":true,\"bfp\":0,\"tags\":[{\"tagName\":\"IE_Desktop_mid_5\",\"tagId\":175237,\"tagNum\":5,\"width\":300,\"height\":250}]}},\"hbSizes\":[[300,250]]},{\"elementId\":\"div-gpt-ad-1418667263920-2\",\"sizes\":[[300,250],[1,1]],\"masonryUseAllowed\":false,\"name\":\"/1008298/BQ_ros_center_300x250\",\"sn\":\"sqC\",\"bdrs\":{\"criteo\":{\"uf\":false,\"bfp\":0,\"zoneIds\":[1320646],\"adj\":0.98},\"appnexus\":{\"uf\":true,\"bfp\":0,\"plid\":6524307,\"adj\":0.99},\"pubmatic\":{\"uf\":true,\"bfp\":0,\"pubmaticName\":\"Center\"},\"rubicon\":{\"uf\":true,\"bfp\":0,\"zone\":457868,\"sizekey\":15,\"altsizekey\":10,\"pos\":\"atf\",\"adj\":0.99},\"openx\":{\"uf\":true,\"bfp\":0,\"oxAdUnitId\":538124064},\"sovrn\":{\"uf\":true,\"bfp\":0,\"tags\":[{\"tagName\":\"Header_BQ_ros_center_300x250\",\"tagId\":335427,\"width\":300,\"height\":250}]},\"indexExchange\":{\"uf\":true,\"bfp\":0,\"tags\":[{\"tagName\":\"IE_Desktop_center_6\",\"tagId\":175238,\"tagNum\":6,\"width\":300,\"height\":250}]}},\"hbSizes\":[[300,250]]},{\"elementId\":\"div-gpt-ad-1418667263920-1\",\"sizes\":[[300,250],[1,1]],\"masonryUseAllowed\":true,\"name\":\"/1008298/BQ_ros_bottom_300x250\",\"sn\":\"sqB\",\"bdrs\":{\"criteo\":{\"uf\":false,\"bfp\":0,\"zoneIds\":[1320645],\"adj\":0.98},\"appnexus\":{\"uf\":true,\"bfp\":0,\"plid\":6524310,\"adj\":0.99},\"pubmatic\":{\"uf\":true,\"bfp\":0,\"pubmaticName\":\"Bottom\"},\"rubicon\":{\"uf\":true,\"bfp\":0,\"zone\":457870,\"sizekey\":15,\"pos\":\"atf\",\"adj\":0.99},\"openx\":{\"uf\":true,\"bfp\":0,\"oxAdUnitId\":538124065},\"sovrn\":{\"uf\":true,\"bfp\":0,\"tags\":[{\"tagName\":\"Header_BQ_ros_bottom_300x250\",\"tagId\":335428,\"width\":300,\"height\":250}]},\"indexExchange\":{\"uf\":true,\"bfp\":0,\"tags\":[{\"tagName\":\"IE_Desktop_center_7\",\"tagId\":175239,\"tagNum\":7,\"width\":300,\"height\":250}]}},\"hbSizes\":[[300,250]]}],\"curi\":\"/topics/music-quotes\"};\n",
       "document.BQ_UNIT_LOOKUP = {\"/1008298/BQ_ros_bottom_300x250\":\"div-gpt-ad-1418667263920-1\",\"/1008298/BQ_ros_square_300x250\":\"div-gpt-ad-1418667263920-4\",\"/1008298/BQ_ros_middle_300x250\":\"div-gpt-ad-1418667263920-3\",\"/1008298/BQ_ros_center_300x250\":\"div-gpt-ad-1418667263920-2\"};\n",
       "document.BQ_SLOTS = [[\"main\",\"/1008298/BQ_ros_square_300x250\",\"div-gpt-ad-1418667263920-4\"],[\"main\",\"/1008298/BQ_ros_middle_300x250\",\"div-gpt-ad-1418667263920-3\"],[\"mult_auct2\",\"/1008298/BQ_ros_center_300x250\",\"div-gpt-ad-1418667263920-2\"],[\"mult_auct2\",\"/1008298/BQ_ros_bottom_300x250\",\"div-gpt-ad-1418667263920-1\"],[\"mult_auct3\",\"/1008298/BQ_ros_square_300x250\",\"div-gpt-ad-1418667263920-4\"],[\"mult_auct3\",\"/1008298/BQ_ros_middle_300x250\",\"div-gpt-ad-1418667263920-3\"],[\"mult_auct4\",\"/1008298/BQ_ros_center_300x250\",\"div-gpt-ad-1418667263920-2\"],[\"mb_footer\",\"/1008298/BQ_ros_middle_300x250\",\"div-gpt-ad-1418667263920-3\"]];\n",
       "document.BQ_FOOTER_SLOTS = [];\n",
       "</script>\n",
       "<script defer=\"\" src=\"/st/js/4534226/bq_first.js\"></script>\n",
       "<script async=\"\" src=\"/cdn-cgi/bm/cv/669835187/api.js\"></script></meta></head>\n",
       "<body class=\"qll-new is-grid-md gr-li-h\">\n",
       "<nav>\n",
       "<div id=\"bqNavBarCtrl\">\n",
       "<div class=\"bq-tnav navbar\" id=\"bq-tn-id\">\n",
       "<div class=\"bq-bluebar\" style=\"line-height:10px\">\n",
       "<div class=\"bq-tnav-right grid-layout-hide\" id=\"bq-tnav-hide\"> <a aria-label=\"Search\" class=\"bq-tnav-btn bq-nav-search-icon\" href=\"/search\"><img alt=\"Search\" aria-hidden=\"true\" class=\"s-btn bq-fa-invert\" src=\"/st/img/4534226/fa/search.svg\"/></a> <div class=\"bq-nav-search-form\"> <form action=\"/search_results\" autocomplete=\"off\" class=\"no-border bq-no-print form-search\" style=\"padding-left:8px; padding-right:4px\"> <div class=\"bq-search\" role=\"search\"> <input alt=\"Submit Form\" aria-label=\"Search\" class=\"s-btn bq-fa\" src=\"/st/img/4534226/fa/search.svg\" type=\"image\"/> <input aria-label=\"Search on BrainyQuote\" autocapitalize=\"off\" class=\"s-fld-t input-medium search-query s-small\" id=\"bq-search-input\" maxlength=\"80\" name=\"q\" placeholder=\"search\" spellcheck=\"false\" type=\"text\" value=\"\"/> </div> </form> </div> <div class=\"nav-item dropdown bq-hamc\" style=\"right: 0\"> <a aria-expanded=\"false\" aria-label=\"Menu\" class=\"bq-tnav-btn bars dropdown-toggle\" data-bs-toggle=\"dropdown\" href=\"#\"> <img alt=\"Menu\" class=\"bq-fa-invert\" src=\"/st/img/4534226/fa/bars.svg\"/> </a> <div class=\"bq-right-menu hamburger-items dropdown-menu dropdown-menu-end\"> <div class=\"bq-ham-ctr\"> <div class=\"row bq-ham-m\"> <div class=\"col-6 bq-rm-col\"> <div class=\"tn-small-header\">Site</div> <div class=\"dropdown-item bq-ni\"> <a href=\"/\">Home</a> </div> <div class=\"dropdown-item bq-ni\"> <a href=\"/authors\">Authors</a> </div> <div class=\"dropdown-item bq-ni\"> <a href=\"/topics\">Topics</a> </div> <div class=\"dropdown-item bq-ni\"> <a href=\"/quote_of_the_day\">Quote Of The Day</a> </div> <div class=\"dropdown-item bq-ni\"> <a href=\"/top_100_quotes\">Top 100 Quotes</a> </div> <div class=\"dropdown-item bq-ni\"> <a href=\"/profession/\">Professions</a> </div> <div class=\"dropdown-item bq-ni\"> <a href=\"/birthdays/\">Birthdays</a> </div> </div> <div class=\"col-6 bq-rm-col\"> <div class=\"tn-small-header\">About</div> <div class=\"dropdown-item bq-ni\"> <a href=\"/about/\">About Us</a> </div> <div class=\"dropdown-item bq-ni\"> <a href=\"/about/contact_us\">Contact Us</a> </div> <div class=\"dropdown-item bq-ni\"> <a href=\"/about/terms\">Terms Of Service</a> </div> <div class=\"dropdown-item bq-ni\"> <a href=\"/about/privacy\">Privacy Policy</a> </div> </div> <div class=\"col-12 bq-right-menu-footer\"> <a class=\"bq-copyr\" href=\"/about/copyright\">Copyright</a> © 2001 - 2021 BrainyQuote </div> </div> </div> </div> </div> </div>\n",
       "<a aria-label=\"Home Page\" class=\"brand\" href=\"/\" style=\"padding:0px 5px 0px 15px; color:white\"><img alt=\"BrainyQuote\" class=\"bqLogoImg\" src=\"/st/img/4534226/brainyquote_sl@2x.png\"/></a>\n",
       "<div class=\"bq-nav-search-form sm-mbl hide-on-landscape\">\n",
       "<form action=\"/search_results\" autocomplete=\"off\" class=\"no-border bq-no-print form-search\" style=\"padding-left:8px; padding-right:4px\">\n",
       "<div class=\"bq-search\" role=\"search\">\n",
       "<input alt=\"Submit Form\" aria-label=\"Search\" class=\"s-btn bq-fa\" src=\"/st/img/4534226/fa/search.svg\" type=\"image\"/>\n",
       "<input aria-label=\"Search on BrainyQuote\" autocapitalize=\"off\" class=\"s-fld-t input-medium search-query s-small\" id=\"bq-search-input-mbl-por\" maxlength=\"80\" name=\"q\" placeholder=\"search\" spellcheck=\"false\" type=\"text\" value=\"\"/>\n",
       "</div>\n",
       "</form>\n",
       "</div>\n",
       "<ul class=\"nav navbar-nav hidden-xs\" style=\"float:none; max-height:40px; overflow-y:hidden; display:inline-block\">\n",
       "<li class=\"bq-ni nav-item\"><a class=\"txnav nav-link\" href=\"/\">Home</a></li>\n",
       "<li class=\"bq-ni nav-item\"><a class=\"txnav nav-link\" href=\"/authors\">Authors</a></li>\n",
       "<li class=\"bq-ni nav-item active\"><a class=\"txnav nav-link\" href=\"/topics\">Topics</a></li>\n",
       "<li class=\"bq-ni nav-item\"><a class=\"txnav nav-link\" href=\"/quote_of_the_day\">Quote Of The Day</a></li>\n",
       "</ul>\n",
       "</div>\n",
       "</div>\n",
       "<div class=\"bq-subnav\">\n",
       "<div class=\"navbar bq-navbar\" style=\"margin-left:0; margin-right:0\">\n",
       "<div class=\"navbar-header\">\n",
       "<h1 class=\"bq-subnav-h1\">\n",
       "Music Quotes\n",
       "</h1>\n",
       "</div>\n",
       "<div class=\"r_dt grid-layout-hide\" id=\"bq-subnav-hide\">\n",
       "<ul class=\"nav navbar-right hidden-1col\">\n",
       "<li class=\"hidden-1col dropdown\">\n",
       "<a aria-expanded=\"false\" aria-haspopup=\"true\" aria-label=\"Popular Authors\" class=\"dropdown-toggle\" data-bs-toggle=\"dropdown\" href=\"#\" role=\"button\"> Popular Authors<span class=\"caret\"></span> </a>\n",
       "<ul class=\"dropdown-menu dropdown-menu-end\">\n",
       "<li class=\"dropdown-item\">\n",
       "<a class=\"bq_on_link_cl\" data-xtracl=\"PA,SubMenu,1\" href=\"/authors/a-p-j-abdul-kalam-quotes\">A. P. J. Abdul Kalam</a>\n",
       "</li>\n",
       "<li class=\"dropdown-item\">\n",
       "<a class=\"bq_on_link_cl\" data-xtracl=\"PA,SubMenu,2\" href=\"/authors/elon-musk-quotes\">Elon Musk</a>\n",
       "</li>\n",
       "<li class=\"dropdown-item\">\n",
       "<a class=\"bq_on_link_cl\" data-xtracl=\"PA,SubMenu,3\" href=\"/authors/william-shakespeare-quotes\">William Shakespeare</a>\n",
       "</li>\n",
       "<li class=\"dropdown-item\">\n",
       "<a class=\"bq_on_link_cl\" data-xtracl=\"PA,SubMenu,4\" href=\"/authors/buddha-quotes\">Buddha</a>\n",
       "</li>\n",
       "<li class=\"dropdown-item\">\n",
       "<a class=\"bq_on_link_cl\" data-xtracl=\"PA,SubMenu,5\" href=\"/authors/mahatma-gandhi-quotes\">Mahatma Gandhi</a>\n",
       "</li>\n",
       "<li class=\"dropdown-item\">\n",
       "<a class=\"bq_on_link_cl\" data-xtracl=\"PA,SubMenu,6\" href=\"/authors/albert-einstein-quotes\">Albert Einstein</a>\n",
       "</li>\n",
       "<li class=\"dropdown-item\">\n",
       "<a class=\"bq_on_link_cl\" data-xtracl=\"PA,SubMenu,7\" href=\"/authors/siddharth-shukla-quotes\">Siddharth Shukla</a>\n",
       "</li>\n",
       "<li class=\"dropdown-item\">\n",
       "<a class=\"bq_on_link_cl\" data-xtracl=\"PA,SubMenu,8\" href=\"/authors/abraham-lincoln-quotes\">Abraham Lincoln</a>\n",
       "</li>\n",
       "</ul>\n",
       "</li>\n",
       "<li class=\"hidden-1col dropdown\">\n",
       "<a aria-expanded=\"false\" aria-haspopup=\"true\" aria-label=\"Menu\" class=\"dropdown-toggle\" data-bs-toggle=\"dropdown\" href=\"#\" role=\"button\"> Menu<span class=\"caret\"></span> </a>\n",
       "<ul class=\"dropdown-menu dropdown-menu-end\">\n",
       "<li class=\"dropdown-item\">\n",
       "<a href=\"/lists/topics/top-10-music-quotes\">Top 10 Music Quotes</a>\n",
       "</li>\n",
       "<li class=\"dropdown-item\">\n",
       "<a href=\"/citation/topics/music-quotes\">Cite this page</a>\n",
       "</li>\n",
       "<li aria-hidden=\"true\" class=\"divider\" role=\"separator\"></li>\n",
       "<li class=\"dropdown-header\">Layout</li>\n",
       "<li class=\"dropdown-item\">\n",
       "<a href=\"/topics/music-quotes\" onclick=\"document.cookieUtils.setGridMode();return true;\"><i class=\"bq_grid bq-fa-th\"></i>\n",
       "Grid</a>\n",
       "</li>\n",
       "<li class=\"dropdown-item\">\n",
       "<a href=\"/topics/music-quotes\" onclick=\"document.cookieUtils.setListMode();return true;\"><i class=\"bq_list bq-fa-list\"></i>\n",
       "List</a>\n",
       "</li>\n",
       "</ul>\n",
       "</li>\n",
       "<li><a aria-label=\"Share on Facebook\" class=\"sh-fb sh-grey\" href=\"/share/fb/u?url=%2Ftopics%2Fmusic-quotes\" rel=\"nofollow\" target=\"_blank\"><img alt=\"Share on Facebook\" aria-hidden=\"true\" class=\"bq-fa-sm\" src=\"/st/img/4534226/fa/fb.svg\"/></a></li><li><a aria-label=\"Share on Twitter\" class=\"sh-tw sh-grey\" href=\"/share/tw/u?url=%2Ftopics%2Fmusic-quotes&amp;ti=Music+Quotes\" rel=\"nofollow\" target=\"_blank\"><img alt=\"Share on Twitter\" aria-hidden=\"true\" class=\"bq-fa-sm\" src=\"/st/img/4534226/fa/tw.svg\"/></a></li><li><a aria-label=\"Share on LinkedIn\" class=\"sh-tw sh-grey\" href=\"/share/li/u?url=%2Ftopics%2Fmusic-quotes&amp;ti=Music+Quotes+-+BrainyQuote\" rel=\"nofollow\" target=\"_blank\"><img alt=\"Share on LinkedIn\" aria-hidden=\"true\" class=\"bq-fa-sm\" src=\"/st/img/4534226/fa/li.svg\"/></a></li>\n",
       "</ul>\n",
       "</div>\n",
       "</div>\n",
       "</div>\n",
       "</div>\n",
       "<div class=\"bq-nav-spacer\"></div>\n",
       "<noscript>\n",
       "<div class=\"enableJs\">\n",
       "<b>Please enable Javascript</b><br/>\n",
       "This site requires Javascript to function properly, please enable it.\n",
       "</div>\n",
       "</noscript>\n",
       "</nav>\n",
       "<main>\n",
       "<div class=\"bq-top-spc r_dt\"></div>\n",
       "<div class=\"bq-mg bqcpx grid-layout-hide reflow_body bq_center ql_page\" id=\"quotesList\">\n",
       "<div class=\"qbcol-c\" id=\"qbcc\">\n",
       "<div class=\"qbcol qbc-spc\" id=\"qbc1\">\n",
       "<div class=\"grid-item qb clearfix bqQt\" id=\"pos_1_1\">\n",
       "<a class=\"b-qt qt_106857 oncl_q\" href=\"/quotes/berthold_auerbach_106857?src=t_music\" title=\"view quote\">\n",
       "<div style=\"display: flex;justify-content: space-between\">\n",
       "Music washes away from the soul the dust of everyday life.\n",
       "<img alt=\"Share this Quote\" class=\"bq-qb-chv\" src=\"/st/img/4534226/fa/chv-r.svg\"/>\n",
       "</div>\n",
       "</a>\n",
       "<a class=\"bq-aut qa_106857 oncl_a\" href=\"/authors/berthold-auerbach-quotes\" title=\"view author\">Berthold Auerbach</a>\n",
       "</div>\n",
       "<div class=\"grid-item qb clearfix bqQt\" id=\"pos_1_2\">\n",
       "<a class=\"b-qt qt_133275 oncl_q\" href=\"/quotes/billy_joel_133275?src=t_music\" title=\"view quote\">\n",
       "<div style=\"display: flex;justify-content: space-between\">\n",
       "I think music in itself is healing. It's an explosive expression of humanity. It's something we are all touched by. No matter what culture we're from, everyone loves music.\n",
       "<img alt=\"Share this Quote\" class=\"bq-qb-chv\" src=\"/st/img/4534226/fa/chv-r.svg\"/>\n",
       "</div>\n",
       "</a>\n",
       "<a class=\"bq-aut qa_133275 oncl_a\" href=\"/authors/billy-joel-quotes\" title=\"view author\">Billy Joel</a>\n",
       "</div>\n",
       "<div class=\"grid-item qb clearfix bqQt\" id=\"pos_1_3\">\n",
       "<a class=\"b-qt qt_153104 oncl_q\" href=\"/quotes/ludwig_van_beethoven_153104?src=t_music\" title=\"view quote\">\n",
       "<div style=\"display: flex;justify-content: space-between\">\n",
       "Music is a higher revelation than all wisdom and philosophy.\n",
       "<img alt=\"Share this Quote\" class=\"bq-qb-chv\" src=\"/st/img/4534226/fa/chv-r.svg\"/>\n",
       "</div>\n",
       "</a>\n",
       "<a class=\"bq-aut qa_153104 oncl_a\" href=\"/authors/ludwig-van-beethoven-quotes\" title=\"view author\">Ludwig van Beethoven</a>\n",
       "</div>\n",
       "<div class=\"m-ad-brick grid-item m-ad-minh boxy-ad\" id=\"pos_1_4\">\n",
       "<div class=\"mbl_qtbox bq_300x250_edge\" id=\"div-gpt-ad-1418667263920-4_edge\">\n",
       "<div class=\"bq_ad_320x250_multi bqAdCollapse\" id=\"div-gpt-ad-1418667263920-4\"></div>\n",
       "</div>\n",
       "</div>\n",
       "<div class=\"grid-item qb clearfix bqQt\" id=\"pos_1_5\">\n",
       "<a class=\"b-qt qt_133272 oncl_q\" href=\"/quotes/dick_clark_133272?src=t_music\" title=\"view quote\">\n",
       "<div style=\"display: flex;justify-content: space-between\">\n",
       "Music is the soundtrack of your life.\n",
       "<img alt=\"Share this Quote\" class=\"bq-qb-chv\" src=\"/st/img/4534226/fa/chv-r.svg\"/>\n",
       "</div>\n",
       "</a>\n",
       "<a class=\"bq-aut qa_133272 oncl_a\" href=\"/authors/dick-clark-quotes\" title=\"view author\">Dick Clark</a>\n",
       "</div>\n",
       "<div class=\"grid-item qb clearfix bqQt\" id=\"pos_1_6\">\n",
       "<a class=\"b-qt qt_380347 oncl_q\" href=\"/quotes/marilyn_manson_380347?src=t_music\" title=\"view quote\">\n",
       "<div style=\"display: flex;justify-content: space-between\">\n",
       "Music is the strongest form of magic.\n",
       "<img alt=\"Share this Quote\" class=\"bq-qb-chv\" src=\"/st/img/4534226/fa/chv-r.svg\"/>\n",
       "</div>\n",
       "</a>\n",
       "<a class=\"bq-aut qa_380347 oncl_a\" href=\"/authors/marilyn-manson-quotes\" title=\"view author\">Marilyn Manson</a>\n",
       "</div>\n",
       "<div class=\"grid-item qb clearfix bqQt\" id=\"pos_1_7\">\n",
       "<div class=\"qti-listm\">\n",
       "<a class=\"oncl_q\" href=\"/quotes/bob_marley_109299?src=t_music\" title=\"view quote\"> <img alt=\"One good thing about music, when it hits you, you feel no pain. - Bob Marley\" class=\"bqphtgrid\" height=\"315\" id=\"qimage_109299\" loading=\"lazy\" src=\"/photos_tr/en/b/bobmarley/109299/bobmarley1.jpg\" width=\"600\"/></a>\n",
       "</div>\n",
       "<a class=\"b-qt qt_109299 oncl_q\" href=\"/quotes/bob_marley_109299?src=t_music\" title=\"view quote\">\n",
       "<div style=\"display: flex;justify-content: space-between\">\n",
       "One good thing about music, when it hits you, you feel no pain.\n",
       "<img alt=\"Share this Quote\" class=\"bq-qb-chv\" src=\"/st/img/4534226/fa/chv-r.svg\"/>\n",
       "</div>\n",
       "</a>\n",
       "<a class=\"bq-aut qa_109299 oncl_a\" href=\"/authors/bob-marley-quotes\" title=\"view author\">Bob Marley</a>\n",
       "</div>\n",
       "<div class=\"grid-item qb clearfix bqQt\" id=\"pos_1_8\">\n",
       "<a class=\"b-qt qt_475679 oncl_q\" href=\"/quotes/psy_475679?src=t_music\" title=\"view quote\">\n",
       "<div style=\"display: flex;justify-content: space-between\">\n",
       "The world's most famous and popular language is music.\n",
       "<img alt=\"Share this Quote\" class=\"bq-qb-chv\" src=\"/st/img/4534226/fa/chv-r.svg\"/>\n",
       "</div>\n",
       "</a>\n",
       "<a class=\"bq-aut qa_475679 oncl_a\" href=\"/authors/psy-quotes\" title=\"view author\">Psy</a>\n",
       "</div>\n",
       "<div class=\"grid-item qb clearfix bqQt\" id=\"pos_1_9\">\n",
       "<a class=\"b-qt qt_100781 oncl_q\" href=\"/quotes/pablo_casals_100781?src=t_music\" title=\"view quote\">\n",
       "<div style=\"display: flex;justify-content: space-between\">\n",
       "Music is the divine way to tell beautiful, poetic things to the heart.\n",
       "<img alt=\"Share this Quote\" class=\"bq-qb-chv\" src=\"/st/img/4534226/fa/chv-r.svg\"/>\n",
       "</div>\n",
       "</a>\n",
       "<a class=\"bq-aut qa_100781 oncl_a\" href=\"/authors/pablo-casals-quotes\" title=\"view author\">Pablo Casals</a>\n",
       "</div>\n",
       "<div class=\"grid-item qb clearfix bqQt\" id=\"pos_1_10\">\n",
       "<a class=\"b-qt qt_141199 oncl_q\" href=\"/quotes/bono_141199?src=t_music\" title=\"view quote\">\n",
       "<div style=\"display: flex;justify-content: space-between\">\n",
       "Music can change the world because it can change people.\n",
       "<img alt=\"Share this Quote\" class=\"bq-qb-chv\" src=\"/st/img/4534226/fa/chv-r.svg\"/>\n",
       "</div>\n",
       "</a>\n",
       "<a class=\"bq-aut qa_141199 oncl_a\" href=\"/authors/bono-quotes\" title=\"view author\">Bono</a>\n",
       "</div>\n",
       "<div class=\"m-ad-brick grid-item m-ad-minh boxy-ad\" id=\"pos_1_11\">\n",
       "<div class=\"mbl_qtbox bq_300x250_edge\" id=\"div-gpt-ad-1418667263920-3_edge\">\n",
       "<div class=\"bq_ad_320x250_multi bqAdCollapse\" id=\"div-gpt-ad-1418667263920-3\"></div>\n",
       "</div>\n",
       "</div>\n",
       "<div class=\"grid-item qb clearfix bqQt\" id=\"pos_1_12\">\n",
       "<a class=\"b-qt qt_102588 oncl_q\" href=\"/quotes/b_b_king_102588?src=t_music\" title=\"view quote\">\n",
       "<div style=\"display: flex;justify-content: space-between\">\n",
       "I've said that playing the blues is like having to be black twice. Stevie Ray Vaughan missed on both counts, but I never noticed.\n",
       "<img alt=\"Share this Quote\" class=\"bq-qb-chv\" src=\"/st/img/4534226/fa/chv-r.svg\"/>\n",
       "</div>\n",
       "</a>\n",
       "<a class=\"bq-aut qa_102588 oncl_a\" href=\"/authors/b-b-king-quotes\" title=\"view author\">B. B. King</a>\n",
       "</div>\n",
       "<div class=\"grid-item qb clearfix bqQt\" id=\"pos_1_13\">\n",
       "<a class=\"b-qt qt_100837 oncl_q\" href=\"/quotes/walter_savage_landor_100837?src=t_music\" title=\"view quote\">\n",
       "<div style=\"display: flex;justify-content: space-between\">\n",
       "Music is God's gift to man, the only art of Heaven given to earth, the only art of earth we take to Heaven.\n",
       "<img alt=\"Share this Quote\" class=\"bq-qb-chv\" src=\"/st/img/4534226/fa/chv-r.svg\"/>\n",
       "</div>\n",
       "</a>\n",
       "<a class=\"bq-aut qa_100837 oncl_a\" href=\"/authors/walter-savage-landor-quotes\" title=\"view author\">Walter Savage Landor</a>\n",
       "</div>\n",
       "<div class=\"grid-item qb clearfix bqQt\" id=\"pos_1_14\">\n",
       "<a class=\"b-qt qt_106876 oncl_q\" href=\"/quotes/jean_paul_106876?src=t_music\" title=\"view quote\">\n",
       "<div style=\"display: flex;justify-content: space-between\">\n",
       "Music is moonlight in the gloomy night of life.\n",
       "<img alt=\"Share this Quote\" class=\"bq-qb-chv\" src=\"/st/img/4534226/fa/chv-r.svg\"/>\n",
       "</div>\n",
       "</a>\n",
       "<a class=\"bq-aut qa_106876 oncl_a\" href=\"/authors/jean-paul-quotes\" title=\"view author\">Jean Paul</a>\n",
       "</div>\n",
       "<div class=\"grid-item qb clearfix bqQt\" id=\"pos_1_15\">\n",
       "<a class=\"b-qt qt_106875 oncl_q\" href=\"/quotes/sidney_lanier_106875?src=t_music\" title=\"view quote\">\n",
       "<div style=\"display: flex;justify-content: space-between\">\n",
       "Music is love in search of a word.\n",
       "<img alt=\"Share this Quote\" class=\"bq-qb-chv\" src=\"/st/img/4534226/fa/chv-r.svg\"/>\n",
       "</div>\n",
       "</a>\n",
       "<a class=\"bq-aut qa_106875 oncl_a\" href=\"/authors/sidney-lanier-quotes\" title=\"view author\">Sidney Lanier</a>\n",
       "</div>\n",
       "<div class=\"grid-item qb clearfix bqQt\" id=\"pos_1_16\">\n",
       "<a class=\"b-qt qt_102457 oncl_q\" href=\"/quotes/friedrich_nietzsche_102457?src=t_music\" title=\"view quote\">\n",
       "<div style=\"display: flex;justify-content: space-between\">\n",
       "Without music, life would be a mistake.\n",
       "<img alt=\"Share this Quote\" class=\"bq-qb-chv\" src=\"/st/img/4534226/fa/chv-r.svg\"/>\n",
       "</div>\n",
       "</a>\n",
       "<a class=\"bq-aut qa_102457 oncl_a\" href=\"/authors/friedrich-nietzsche-quotes\" title=\"view author\">Friedrich Nietzsche</a>\n",
       "</div>\n",
       "<div class=\"grid-item qb clearfix bqQt\" id=\"pos_1_17\">\n",
       "<a class=\"b-qt qt_245976 oncl_q\" href=\"/quotes/dick_dale_245976?src=t_music\" title=\"view quote\">\n",
       "<div style=\"display: flex;justify-content: space-between\">\n",
       "Every song is like a painting.\n",
       "<img alt=\"Share this Quote\" class=\"bq-qb-chv\" src=\"/st/img/4534226/fa/chv-r.svg\"/>\n",
       "</div>\n",
       "</a>\n",
       "<a class=\"bq-aut qa_245976 oncl_a\" href=\"/authors/dick-dale-quotes\" title=\"view author\">Dick Dale</a>\n",
       "</div>\n",
       "<div class=\"m-ad-brick grid-item m-ad-minh boxy-ad\" id=\"pos_1_18\">\n",
       "<div class=\"mbl_qtbox bq_300x250_edge\" id=\"div-gpt-ad-1418667263920-2-mult_auct2_edge\">\n",
       "<div class=\"bq_ad_320x250_multi bqAdCollapse\" id=\"div-gpt-ad-1418667263920-2-mult_auct2\"></div>\n",
       "</div>\n",
       "</div>\n",
       "<div class=\"grid-item qb clearfix bqQt\" id=\"pos_1_19\">\n",
       "<a class=\"b-qt qt_133268 oncl_q\" href=\"/quotes/heinrich_heine_133268?src=t_music\" title=\"view quote\">\n",
       "<div style=\"display: flex;justify-content: space-between\">\n",
       "When words leave off, music begins.\n",
       "<img alt=\"Share this Quote\" class=\"bq-qb-chv\" src=\"/st/img/4534226/fa/chv-r.svg\"/>\n",
       "</div>\n",
       "</a>\n",
       "<a class=\"bq-aut qa_133268 oncl_a\" href=\"/authors/heinrich-heine-quotes\" title=\"view author\">Heinrich Heine</a>\n",
       "</div>\n",
       "<div class=\"grid-item qb clearfix bqQt\" id=\"pos_1_20\">\n",
       "<a class=\"b-qt qt_165578 oncl_q\" href=\"/quotes/ludwig_van_beethoven_165578?src=t_music\" title=\"view quote\">\n",
       "<div style=\"display: flex;justify-content: space-between\">\n",
       "Music should strike fire from the heart of man, and bring tears from the eyes of woman.\n",
       "<img alt=\"Share this Quote\" class=\"bq-qb-chv\" src=\"/st/img/4534226/fa/chv-r.svg\"/>\n",
       "</div>\n",
       "</a>\n",
       "<a class=\"bq-aut qa_165578 oncl_a\" href=\"/authors/ludwig-van-beethoven-quotes\" title=\"view author\">Ludwig van Beethoven</a>\n",
       "</div>\n",
       "<div class=\"grid-item qb clearfix bqQt\" id=\"pos_1_21\">\n",
       "<a class=\"b-qt qt_183521 oncl_q\" href=\"/quotes/maurice_ravel_183521?src=t_music\" title=\"view quote\">\n",
       "<div style=\"display: flex;justify-content: space-between\">\n",
       "The only love affair I have ever had was with music.\n",
       "<img alt=\"Share this Quote\" class=\"bq-qb-chv\" src=\"/st/img/4534226/fa/chv-r.svg\"/>\n",
       "</div>\n",
       "</a>\n",
       "<a class=\"bq-aut qa_183521 oncl_a\" href=\"/authors/maurice-ravel-quotes\" title=\"view author\">Maurice Ravel</a>\n",
       "</div>\n",
       "<div class=\"grid-item qb clearfix bqQt\" id=\"pos_1_22\">\n",
       "<a class=\"b-qt qt_139048 oncl_q\" href=\"/quotes/benjamin_britten_139048?src=t_music\" title=\"view quote\">\n",
       "<div style=\"display: flex;justify-content: space-between\">\n",
       "It is cruel, you know, that music should be so beautiful. It has the beauty of loneliness of pain: of strength and freedom. The beauty of disappointment and never-satisfied love. The cruel beauty of nature and everlasting beauty of monotony.\n",
       "<img alt=\"Share this Quote\" class=\"bq-qb-chv\" src=\"/st/img/4534226/fa/chv-r.svg\"/>\n",
       "</div>\n",
       "</a>\n",
       "<a class=\"bq-aut qa_139048 oncl_a\" href=\"/authors/benjamin-britten-quotes\" title=\"view author\">Benjamin Britten</a>\n",
       "</div>\n",
       "<div class=\"grid-item qb clearfix bqQt\" id=\"pos_1_23\">\n",
       "<a class=\"b-qt qt_435147 oncl_q\" href=\"/quotes/eddie_van_halen_435147?src=t_music\" title=\"view quote\">\n",
       "<div style=\"display: flex;justify-content: space-between\">\n",
       "If you want to be a rock star or just be famous, then run down the street naked, you'll make the news or something. But if you want music to be your livelihood, then play, play, play and play! And eventually you'll get to where you want to be.\n",
       "<img alt=\"Share this Quote\" class=\"bq-qb-chv\" src=\"/st/img/4534226/fa/chv-r.svg\"/>\n",
       "</div>\n",
       "</a>\n",
       "<a class=\"bq-aut qa_435147 oncl_a\" href=\"/authors/eddie-van-halen-quotes\" title=\"view author\">Eddie Van Halen</a>\n",
       "</div>\n",
       "<div class=\"grid-item qb clearfix bqQt\" id=\"pos_1_24\">\n",
       "<a class=\"b-qt qt_187012 oncl_q\" href=\"/quotes/mickey_hart_187012?src=t_music\" title=\"view quote\">\n",
       "<div style=\"display: flex;justify-content: space-between\">\n",
       "There's nothing like music to relieve the soul and uplift it.\n",
       "<img alt=\"Share this Quote\" class=\"bq-qb-chv\" src=\"/st/img/4534226/fa/chv-r.svg\"/>\n",
       "</div>\n",
       "</a>\n",
       "<a class=\"bq-aut qa_187012 oncl_a\" href=\"/authors/mickey-hart-quotes\" title=\"view author\">Mickey Hart</a>\n",
       "</div>\n",
       "<div class=\"grid-item qb clearfix bqQt\" id=\"pos_1_25\">\n",
       "<a class=\"b-qt qt_214368 oncl_q\" href=\"/quotes/edgar_winter_214368?src=t_music\" title=\"view quote\">\n",
       "<div style=\"display: flex;justify-content: space-between\">\n",
       "Music is very spiritual, it has the power to bring people together.\n",
       "<img alt=\"Share this Quote\" class=\"bq-qb-chv\" src=\"/st/img/4534226/fa/chv-r.svg\"/>\n",
       "</div>\n",
       "</a>\n",
       "<a class=\"bq-aut qa_214368 oncl_a\" href=\"/authors/edgar-winter-quotes\" title=\"view author\">Edgar Winter</a>\n",
       "</div>\n",
       "<div class=\"grid-item qb clearfix bqQt\" id=\"pos_1_26\">\n",
       "<div class=\"qti-listm\">\n",
       "<a class=\"oncl_q\" href=\"/quotes/victor_hugo_106867?src=t_music\" title=\"view quote\"> <img alt=\"Music expresses that which cannot be said and on which it is impossible to be silent. - Victor Hugo\" class=\"bqphtgrid\" height=\"315\" id=\"qimage_106867\" loading=\"lazy\" src=\"/photos_tr/en/v/victorhugo/106867/victorhugo1.jpg\" width=\"600\"/></a>\n",
       "</div>\n",
       "<a class=\"b-qt qt_106867 oncl_q\" href=\"/quotes/victor_hugo_106867?src=t_music\" title=\"view quote\">\n",
       "<div style=\"display: flex;justify-content: space-between\">\n",
       "Music expresses that which cannot be said and on which it is impossible to be silent.\n",
       "<img alt=\"Share this Quote\" class=\"bq-qb-chv\" src=\"/st/img/4534226/fa/chv-r.svg\"/>\n",
       "</div>\n",
       "</a>\n",
       "<a class=\"bq-aut qa_106867 oncl_a\" href=\"/authors/victor-hugo-quotes\" title=\"view author\">Victor Hugo</a>\n",
       "</div>\n",
       "<div class=\"m-ad-brick grid-item m-ad-minh boxy-ad\" id=\"pos_1_27\">\n",
       "<div class=\"mbl_qtbox bq_300x250_edge\" id=\"div-gpt-ad-1418667263920-1-mult_auct2_edge\">\n",
       "<div class=\"bq_ad_320x250_multi bqAdCollapse\" id=\"div-gpt-ad-1418667263920-1-mult_auct2\"></div>\n",
       "</div>\n",
       "</div>\n",
       "<div class=\"grid-item qb clearfix bqQt\" id=\"pos_1_28\">\n",
       "<a class=\"b-qt qt_279169 oncl_q\" href=\"/quotes/missy_elliott_279169?src=t_music\" title=\"view quote\">\n",
       "<div style=\"display: flex;justify-content: space-between\">\n",
       "Music should be your escape.\n",
       "<img alt=\"Share this Quote\" class=\"bq-qb-chv\" src=\"/st/img/4534226/fa/chv-r.svg\"/>\n",
       "</div>\n",
       "</a>\n",
       "<a class=\"bq-aut qa_279169 oncl_a\" href=\"/authors/missy-elliott-quotes\" title=\"view author\">Missy Elliott</a>\n",
       "</div>\n",
       "<div class=\"grid-item qb clearfix bqQt\" id=\"pos_1_29\">\n",
       "<a class=\"b-qt qt_106874 oncl_q\" href=\"/quotes/aldous_huxley_106874?src=t_music\" title=\"view quote\">\n",
       "<div style=\"display: flex;justify-content: space-between\">\n",
       "After silence, that which comes nearest to expressing the inexpressible is music.\n",
       "<img alt=\"Share this Quote\" class=\"bq-qb-chv\" src=\"/st/img/4534226/fa/chv-r.svg\"/>\n",
       "</div>\n",
       "</a>\n",
       "<a class=\"bq-aut qa_106874 oncl_a\" href=\"/authors/aldous-huxley-quotes\" title=\"view author\">Aldous Huxley</a>\n",
       "</div>\n",
       "<div class=\"grid-item qb clearfix bqQt\" id=\"pos_1_30\">\n",
       "<a class=\"b-qt qt_100378 oncl_q\" href=\"/quotes/billy_wilder_100378?src=t_music\" title=\"view quote\">\n",
       "<div style=\"display: flex;justify-content: space-between\">\n",
       "He has Van Gogh's ear for music.\n",
       "<img alt=\"Share this Quote\" class=\"bq-qb-chv\" src=\"/st/img/4534226/fa/chv-r.svg\"/>\n",
       "</div>\n",
       "</a>\n",
       "<a class=\"bq-aut qa_100378 oncl_a\" href=\"/authors/billy-wilder-quotes\" title=\"view author\">Billy Wilder</a>\n",
       "</div>\n",
       "<div class=\"grid-item qb clearfix bqQt\" id=\"pos_1_31\">\n",
       "<a class=\"b-qt qt_421406 oncl_q\" href=\"/quotes/adele_421406?src=t_music\" title=\"view quote\">\n",
       "<div style=\"display: flex;justify-content: space-between\">\n",
       "I don't make music for eyes. I make music for ears.\n",
       "<img alt=\"Share this Quote\" class=\"bq-qb-chv\" src=\"/st/img/4534226/fa/chv-r.svg\"/>\n",
       "</div>\n",
       "</a>\n",
       "<a class=\"bq-aut qa_421406 oncl_a\" href=\"/authors/adele-quotes\" title=\"view author\">Adele</a>\n",
       "</div>\n",
       "<div class=\"grid-item qb clearfix bqQt\" id=\"pos_1_32\">\n",
       "<a class=\"b-qt qt_109438 oncl_q\" href=\"/quotes/plato_109438?src=t_music\" title=\"view quote\">\n",
       "<div style=\"display: flex;justify-content: space-between\">\n",
       "Music is a moral law. It gives soul to the universe, wings to the mind, flight to the imagination, and charm and gaiety to life and to everything.\n",
       "<img alt=\"Share this Quote\" class=\"bq-qb-chv\" src=\"/st/img/4534226/fa/chv-r.svg\"/>\n",
       "</div>\n",
       "</a>\n",
       "<a class=\"bq-aut qa_109438 oncl_a\" href=\"/authors/plato-quotes\" title=\"view author\">Plato</a>\n",
       "</div>\n",
       "<div class=\"grid-item qb clearfix bqQt\" id=\"pos_1_33\">\n",
       "<a class=\"b-qt qt_106861 oncl_q\" href=\"/quotes/maya_angelou_106861?src=t_music\" title=\"view quote\">\n",
       "<div style=\"display: flex;justify-content: space-between\">\n",
       "Music was my refuge. I could crawl into the space between the notes and curl my back to loneliness.\n",
       "<img alt=\"Share this Quote\" class=\"bq-qb-chv\" src=\"/st/img/4534226/fa/chv-r.svg\"/>\n",
       "</div>\n",
       "</a>\n",
       "<a class=\"bq-aut qa_106861 oncl_a\" href=\"/authors/maya-angelou-quotes\" title=\"view author\">Maya Angelou</a>\n",
       "</div>\n",
       "<div class=\"grid-item qb clearfix bqQt\" id=\"pos_1_34\">\n",
       "<a class=\"b-qt qt_195416 oncl_q\" href=\"/quotes/jimi_hendrix_195416?src=t_music\" title=\"view quote\">\n",
       "<div style=\"display: flex;justify-content: space-between\">\n",
       "Music doesn't lie. If there is something to be changed in this world, then it can only happen through music.\n",
       "<img alt=\"Share this Quote\" class=\"bq-qb-chv\" src=\"/st/img/4534226/fa/chv-r.svg\"/>\n",
       "</div>\n",
       "</a>\n",
       "<a class=\"bq-aut qa_195416 oncl_a\" href=\"/authors/jimi-hendrix-quotes\" title=\"view author\">Jimi Hendrix</a>\n",
       "</div>\n",
       "<div class=\"grid-item qb clearfix bqQt\" id=\"pos_1_35\">\n",
       "<a class=\"b-qt qt_515744 oncl_q\" href=\"/quotes/nat_wolff_515744?src=t_music\" title=\"view quote\">\n",
       "<div style=\"display: flex;justify-content: space-between\">\n",
       "Jazz is smooth and cool. Jazz is rage. Jazz flows like water. Jazz never seems to begin or end. Jazz isn't methodical, but jazz isn't messy either. Jazz is a conversation, a give and take. Jazz is the connection and communication between musicians. Jazz is abandon.\n",
       "<img alt=\"Share this Quote\" class=\"bq-qb-chv\" src=\"/st/img/4534226/fa/chv-r.svg\"/>\n",
       "</div>\n",
       "</a>\n",
       "<a class=\"bq-aut qa_515744 oncl_a\" href=\"/authors/nat-wolff-quotes\" title=\"view author\">Nat Wolff</a>\n",
       "</div>\n",
       "<div class=\"m-ad-brick grid-item m-ad-minh boxy-ad\" id=\"pos_1_36\">\n",
       "<div class=\"mbl_qtbox bq_300x250_edge\" id=\"div-gpt-ad-1418667263920-4-mult_auct3_edge\">\n",
       "<div class=\"bq_ad_320x250_multi bqAdCollapse\" id=\"div-gpt-ad-1418667263920-4-mult_auct3\"></div>\n",
       "</div>\n",
       "</div>\n",
       "<div class=\"grid-item qb clearfix bqQt\" id=\"pos_1_37\">\n",
       "<a class=\"b-qt qt_192604 oncl_q\" href=\"/quotes/hans_christian_andersen_192604?src=t_music\" title=\"view quote\">\n",
       "<div style=\"display: flex;justify-content: space-between\">\n",
       "Where words fail, music speaks.\n",
       "<img alt=\"Share this Quote\" class=\"bq-qb-chv\" src=\"/st/img/4534226/fa/chv-r.svg\"/>\n",
       "</div>\n",
       "</a>\n",
       "<a class=\"bq-aut qa_192604 oncl_a\" href=\"/authors/hans-christian-andersen-quotes\" title=\"view author\">Hans Christian Andersen</a>\n",
       "</div>\n",
       "<div class=\"grid-item qb clearfix bqQt\" id=\"pos_1_38\">\n",
       "<a class=\"b-qt qt_454250 oncl_q\" href=\"/quotes/keith_richards_454250?src=t_music\" title=\"view quote\">\n",
       "<div style=\"display: flex;justify-content: space-between\">\n",
       "You have the sun, you have the moon, you have the air that you breathe - and you have the Rolling Stones!\n",
       "<img alt=\"Share this Quote\" class=\"bq-qb-chv\" src=\"/st/img/4534226/fa/chv-r.svg\"/>\n",
       "</div>\n",
       "</a>\n",
       "<a class=\"bq-aut qa_454250 oncl_a\" href=\"/authors/keith-richards-quotes\" title=\"view author\">Keith Richards</a>\n",
       "</div>\n",
       "<div class=\"grid-item qb clearfix bqQt\" id=\"pos_1_39\">\n",
       "<a class=\"b-qt qt_163526 oncl_q\" href=\"/quotes/reba_mcentire_163526?src=t_music\" title=\"view quote\">\n",
       "<div style=\"display: flex;justify-content: space-between\">\n",
       "For me, singing sad songs often has a way of healing a situation. It gets the hurt out in the open into the light, out of the darkness.\n",
       "<img alt=\"Share this Quote\" class=\"bq-qb-chv\" src=\"/st/img/4534226/fa/chv-r.svg\"/>\n",
       "</div>\n",
       "</a>\n",
       "<a class=\"bq-aut qa_163526 oncl_a\" href=\"/authors/reba-mcentire-quotes\" title=\"view author\">Reba McEntire</a>\n",
       "</div>\n",
       "<div class=\"grid-item qb clearfix bqQt\" id=\"pos_1_40\">\n",
       "<a class=\"b-qt qt_134554 oncl_q\" href=\"/quotes/ray_charles_134554?src=t_music\" title=\"view quote\">\n",
       "<div style=\"display: flex;justify-content: space-between\">\n",
       "I was born with music inside me. Music was one of my parts. Like my ribs, my kidneys, my liver, my heart. Like my blood. It was a force already within me when I arrived on the scene. It was a necessity for me - like food or water.\n",
       "<img alt=\"Share this Quote\" class=\"bq-qb-chv\" src=\"/st/img/4534226/fa/chv-r.svg\"/>\n",
       "</div>\n",
       "</a>\n",
       "<a class=\"bq-aut qa_134554 oncl_a\" href=\"/authors/ray-charles-quotes\" title=\"view author\">Ray Charles</a>\n",
       "</div>\n",
       "<div class=\"grid-item qb clearfix bqQt\" id=\"pos_1_41\">\n",
       "<a class=\"b-qt qt_131259 oncl_q\" href=\"/quotes/thomas_carlyle_131259?src=t_music\" title=\"view quote\">\n",
       "<div style=\"display: flex;justify-content: space-between\">\n",
       "Music is well said to be the speech of angels.\n",
       "<img alt=\"Share this Quote\" class=\"bq-qb-chv\" src=\"/st/img/4534226/fa/chv-r.svg\"/>\n",
       "</div>\n",
       "</a>\n",
       "<a class=\"bq-aut qa_131259 oncl_a\" href=\"/authors/thomas-carlyle-quotes\" title=\"view author\">Thomas Carlyle</a>\n",
       "</div>\n",
       "<div class=\"grid-item qb clearfix bqQt\" id=\"pos_1_42\">\n",
       "<a class=\"b-qt qt_109970 oncl_q\" href=\"/quotes/elvis_presley_109970?src=t_music\" title=\"view quote\">\n",
       "<div style=\"display: flex;justify-content: space-between\">\n",
       "I don't know anything about music. In my line you don't have to.\n",
       "<img alt=\"Share this Quote\" class=\"bq-qb-chv\" src=\"/st/img/4534226/fa/chv-r.svg\"/>\n",
       "</div>\n",
       "</a>\n",
       "<a class=\"bq-aut qa_109970 oncl_a\" href=\"/authors/elvis-presley-quotes\" title=\"view author\">Elvis Presley</a>\n",
       "</div>\n",
       "<div class=\"grid-item qb clearfix bqQt\" id=\"pos_1_43\">\n",
       "<a class=\"b-qt qt_208428 oncl_q\" href=\"/quotes/billy_sheehan_208428?src=t_music\" title=\"view quote\">\n",
       "<div style=\"display: flex;justify-content: space-between\">\n",
       "Music is always changing and the changes are unpredictable.\n",
       "<img alt=\"Share this Quote\" class=\"bq-qb-chv\" src=\"/st/img/4534226/fa/chv-r.svg\"/>\n",
       "</div>\n",
       "</a>\n",
       "<a class=\"bq-aut qa_208428 oncl_a\" href=\"/authors/billy-sheehan-quotes\" title=\"view author\">Billy Sheehan</a>\n",
       "</div>\n",
       "<div class=\"grid-item qb clearfix bqQt\" id=\"pos_1_44\">\n",
       "<a class=\"b-qt qt_106865 oncl_q\" href=\"/quotes/t_s_eliot_106865?src=t_music\" title=\"view quote\">\n",
       "<div style=\"display: flex;justify-content: space-between\">\n",
       "You are the music while the music lasts.\n",
       "<img alt=\"Share this Quote\" class=\"bq-qb-chv\" src=\"/st/img/4534226/fa/chv-r.svg\"/>\n",
       "</div>\n",
       "</a>\n",
       "<a class=\"bq-aut qa_106865 oncl_a\" href=\"/authors/t-s-eliot-quotes\" title=\"view author\">T. S. Eliot</a>\n",
       "</div>\n",
       "<div class=\"grid-item qb clearfix bqQt\" id=\"pos_1_45\">\n",
       "<div class=\"qti-listm\">\n",
       "<a class=\"oncl_q\" href=\"/quotes/joni_mitchell_478987?src=t_music\" title=\"view quote\"> <img alt=\"I see music as fluid architecture. - Joni Mitchell\" class=\"bqphtgrid\" height=\"315\" id=\"qimage_478987\" loading=\"lazy\" src=\"/photos_tr/en/j/jonimitchell/478987/jonimitchell1.jpg\" width=\"600\"/></a>\n",
       "</div>\n",
       "<a class=\"b-qt qt_478987 oncl_q\" href=\"/quotes/joni_mitchell_478987?src=t_music\" title=\"view quote\">\n",
       "<div style=\"display: flex;justify-content: space-between\">\n",
       "I see music as fluid architecture.\n",
       "<img alt=\"Share this Quote\" class=\"bq-qb-chv\" src=\"/st/img/4534226/fa/chv-r.svg\"/>\n",
       "</div>\n",
       "</a>\n",
       "<a class=\"bq-aut qa_478987 oncl_a\" href=\"/authors/joni-mitchell-quotes\" title=\"view author\">Joni Mitchell</a>\n",
       "</div>\n",
       "<div class=\"grid-item qb clearfix bqQt\" id=\"pos_1_46\">\n",
       "<a class=\"b-qt qt_163971 oncl_q\" href=\"/quotes/dizzy_gillespie_163971?src=t_music\" title=\"view quote\">\n",
       "<div style=\"display: flex;justify-content: space-between\">\n",
       "I don't care much about music. What I like is sounds.\n",
       "<img alt=\"Share this Quote\" class=\"bq-qb-chv\" src=\"/st/img/4534226/fa/chv-r.svg\"/>\n",
       "</div>\n",
       "</a>\n",
       "<a class=\"bq-aut qa_163971 oncl_a\" href=\"/authors/dizzy-gillespie-quotes\" title=\"view author\">Dizzy Gillespie</a>\n",
       "</div>\n",
       "<div class=\"m-ad-brick grid-item m-ad-minh boxy-ad\" id=\"pos_1_47\">\n",
       "<div class=\"mbl_qtbox bq_300x250_edge\" id=\"div-gpt-ad-1418667263920-3-mult_auct3_edge\">\n",
       "<div class=\"bq_ad_320x250_multi bqAdCollapse\" id=\"div-gpt-ad-1418667263920-3-mult_auct3\"></div>\n",
       "</div>\n",
       "</div>\n",
       "<div class=\"grid-item qb clearfix bqQt\" id=\"pos_1_48\">\n",
       "<a class=\"b-qt qt_187636 oncl_q\" href=\"/quotes/buddy_guy_187636?src=t_music\" title=\"view quote\">\n",
       "<div style=\"display: flex;justify-content: space-between\">\n",
       "I've never missed a gig yet. Music makes people happy, and that's why I go on doing it - I like to see everybody smile.\n",
       "<img alt=\"Share this Quote\" class=\"bq-qb-chv\" src=\"/st/img/4534226/fa/chv-r.svg\"/>\n",
       "</div>\n",
       "</a>\n",
       "<a class=\"bq-aut qa_187636 oncl_a\" href=\"/authors/buddy-guy-quotes\" title=\"view author\">Buddy Guy</a>\n",
       "</div>\n",
       "<div class=\"grid-item qb clearfix bqQt\" id=\"pos_1_49\">\n",
       "<a class=\"b-qt qt_106859 oncl_q\" href=\"/quotes/gustav_mahler_106859?src=t_music\" title=\"view quote\">\n",
       "<div style=\"display: flex;justify-content: space-between\">\n",
       "If a composer could say what he had to say in words he would not bother trying to say it in music.\n",
       "<img alt=\"Share this Quote\" class=\"bq-qb-chv\" src=\"/st/img/4534226/fa/chv-r.svg\"/>\n",
       "</div>\n",
       "</a>\n",
       "<a class=\"bq-aut qa_106859 oncl_a\" href=\"/authors/gustav-mahler-quotes\" title=\"view author\">Gustav Mahler</a>\n",
       "</div>\n",
       "<div class=\"grid-item qb clearfix bqQt\" id=\"pos_1_50\">\n",
       "<a class=\"b-qt qt_385600 oncl_q\" href=\"/quotes/martin_luther_385600?src=t_music\" title=\"view quote\">\n",
       "<div style=\"display: flex;justify-content: space-between\">\n",
       "Next to the Word of God, the noble art of music is the greatest treasure in the world.\n",
       "<img alt=\"Share this Quote\" class=\"bq-qb-chv\" src=\"/st/img/4534226/fa/chv-r.svg\"/>\n",
       "</div>\n",
       "</a>\n",
       "<a class=\"bq-aut qa_385600 oncl_a\" href=\"/authors/martin-luther-quotes\" title=\"view author\">Martin Luther</a>\n",
       "</div>\n",
       "<div class=\"grid-item qb clearfix bqQt\" id=\"pos_1_51\">\n",
       "<a class=\"b-qt qt_199484 oncl_q\" href=\"/quotes/herbie_hancock_199484?src=t_music\" title=\"view quote\">\n",
       "<div style=\"display: flex;justify-content: space-between\">\n",
       "Music happens to be an art form that transcends language.\n",
       "<img alt=\"Share this Quote\" class=\"bq-qb-chv\" src=\"/st/img/4534226/fa/chv-r.svg\"/>\n",
       "</div>\n",
       "</a>\n",
       "<a class=\"bq-aut qa_199484 oncl_a\" href=\"/authors/herbie-hancock-quotes\" title=\"view author\">Herbie Hancock</a>\n",
       "</div>\n",
       "<div class=\"grid-item qb clearfix bqQt\" id=\"pos_1_52\">\n",
       "<a class=\"b-qt qt_133273 oncl_q\" href=\"/quotes/paul_simon_133273?src=t_music\" title=\"view quote\">\n",
       "<div style=\"display: flex;justify-content: space-between\">\n",
       "Music is forever; music should grow and mature with you, following you right on up until you die.\n",
       "<img alt=\"Share this Quote\" class=\"bq-qb-chv\" src=\"/st/img/4534226/fa/chv-r.svg\"/>\n",
       "</div>\n",
       "</a>\n",
       "<a class=\"bq-aut qa_133273 oncl_a\" href=\"/authors/paul-simon-quotes\" title=\"view author\">Paul Simon</a>\n",
       "</div>\n",
       "<div class=\"grid-item qb clearfix bqQt\" id=\"pos_1_53\">\n",
       "<a class=\"b-qt qt_195405 oncl_q\" href=\"/quotes/jimi_hendrix_195405?src=t_music\" title=\"view quote\">\n",
       "<div style=\"display: flex;justify-content: space-between\">\n",
       "Music is my religion.\n",
       "<img alt=\"Share this Quote\" class=\"bq-qb-chv\" src=\"/st/img/4534226/fa/chv-r.svg\"/>\n",
       "</div>\n",
       "</a>\n",
       "<a class=\"bq-aut qa_195405 oncl_a\" href=\"/authors/jimi-hendrix-quotes\" title=\"view author\">Jimi Hendrix</a>\n",
       "</div>\n",
       "<div class=\"grid-item qb clearfix bqQt\" id=\"pos_1_54\">\n",
       "<a class=\"b-qt qt_312307 oncl_q\" href=\"/quotes/van_morrison_312307?src=t_music\" title=\"view quote\">\n",
       "<div style=\"display: flex;justify-content: space-between\">\n",
       "You can't stay the same. If you're a musician and a singer, you have to change, that's the way it works.\n",
       "<img alt=\"Share this Quote\" class=\"bq-qb-chv\" src=\"/st/img/4534226/fa/chv-r.svg\"/>\n",
       "</div>\n",
       "</a>\n",
       "<a class=\"bq-aut qa_312307 oncl_a\" href=\"/authors/van-morrison-quotes\" title=\"view author\">Van Morrison</a>\n",
       "</div>\n",
       "<div class=\"grid-item qb clearfix bqQt\" id=\"pos_1_55\">\n",
       "<a class=\"b-qt qt_320196 oncl_q\" href=\"/quotes/george_thorogood_320196?src=t_music\" title=\"view quote\">\n",
       "<div style=\"display: flex;justify-content: space-between\">\n",
       "I guess a good song is a good song is a good song, ya know.\n",
       "<img alt=\"Share this Quote\" class=\"bq-qb-chv\" src=\"/st/img/4534226/fa/chv-r.svg\"/>\n",
       "</div>\n",
       "</a>\n",
       "<a class=\"bq-aut qa_320196 oncl_a\" href=\"/authors/george-thorogood-quotes\" title=\"view author\">George Thorogood</a>\n",
       "</div>\n",
       "<div class=\"grid-item qb clearfix bqQt\" id=\"pos_1_56\">\n",
       "<a class=\"b-qt qt_106870 oncl_q\" href=\"/quotes/leo_tolstoy_106870?src=t_music\" title=\"view quote\">\n",
       "<div style=\"display: flex;justify-content: space-between\">\n",
       "Music is the shorthand of emotion.\n",
       "<img alt=\"Share this Quote\" class=\"bq-qb-chv\" src=\"/st/img/4534226/fa/chv-r.svg\"/>\n",
       "</div>\n",
       "</a>\n",
       "<a class=\"bq-aut qa_106870 oncl_a\" href=\"/authors/leo-tolstoy-quotes\" title=\"view author\">Leo Tolstoy</a>\n",
       "</div>\n",
       "<div class=\"grid-item qb clearfix bqQt\" id=\"pos_1_57\">\n",
       "<a class=\"b-qt qt_208847 oncl_q\" href=\"/quotes/lesley_garrett_208847?src=t_music\" title=\"view quote\">\n",
       "<div style=\"display: flex;justify-content: space-between\">\n",
       "That was when I realised that music is the most profound, magical form of communication there is.\n",
       "<img alt=\"Share this Quote\" class=\"bq-qb-chv\" src=\"/st/img/4534226/fa/chv-r.svg\"/>\n",
       "</div>\n",
       "</a>\n",
       "<a class=\"bq-aut qa_208847 oncl_a\" href=\"/authors/lesley-garrett-quotes\" title=\"view author\">Lesley Garrett</a>\n",
       "</div>\n",
       "<div class=\"m-ad-brick grid-item m-ad-minh boxy-ad\" id=\"pos_1_58\">\n",
       "<div class=\"mbl_qtbox bq_300x250_edge\" id=\"div-gpt-ad-1418667263920-2-mult_auct4_edge\">\n",
       "<div class=\"bq_ad_320x250_multi bqAdCollapse\" id=\"div-gpt-ad-1418667263920-2-mult_auct4\"></div>\n",
       "</div>\n",
       "</div>\n",
       "<div class=\"grid-item qb clearfix bqQt\" id=\"pos_1_59\">\n",
       "<a class=\"b-qt qt_351963 oncl_q\" href=\"/quotes/gary_wright_351963?src=t_music\" title=\"view quote\">\n",
       "<div style=\"display: flex;justify-content: space-between\">\n",
       "Music's staying power is a function of how timeless the lyrics, song and production are.\n",
       "<img alt=\"Share this Quote\" class=\"bq-qb-chv\" src=\"/st/img/4534226/fa/chv-r.svg\"/>\n",
       "</div>\n",
       "</a>\n",
       "<a class=\"bq-aut qa_351963 oncl_a\" href=\"/authors/gary-wright-quotes\" title=\"view author\">Gary Wright</a>\n",
       "</div>\n",
       "<div class=\"grid-item qb clearfix bqQt\" id=\"pos_1_60\">\n",
       "<a class=\"b-qt qt_292036 oncl_q\" href=\"/quotes/george_gershwin_292036?src=t_music\" title=\"view quote\">\n",
       "<div style=\"display: flex;justify-content: space-between\">\n",
       "True music must repeat the thought and inspirations of the people and the time.\n",
       "<img alt=\"Share this Quote\" class=\"bq-qb-chv\" src=\"/st/img/4534226/fa/chv-r.svg\"/>\n",
       "</div>\n",
       "</a>\n",
       "<a class=\"bq-aut qa_292036 oncl_a\" href=\"/authors/george-gershwin-quotes\" title=\"view author\">George Gershwin</a>\n",
       "</div>\n",
       "<div class=\"grid-item qb clearfix bqQt\" id=\"pos_1_61\">\n",
       "<a class=\"b-qt qt_426921 oncl_q\" href=\"/quotes/gerard_way_426921?src=t_music\" title=\"view quote\">\n",
       "<div style=\"display: flex;justify-content: space-between\">\n",
       "Remember the first time you went to a show and saw your favorite band. You wore their shirt, and sang every word. You didn't know anything about scene politics, haircuts, or what was cool. All you knew was that this music made you feel different from anyone you shared a locker with. Someone finally understood you. This is what music is about.\n",
       "<img alt=\"Share this Quote\" class=\"bq-qb-chv\" src=\"/st/img/4534226/fa/chv-r.svg\"/>\n",
       "</div>\n",
       "</a>\n",
       "<a class=\"bq-aut qa_426921 oncl_a\" href=\"/authors/gerard-way-quotes\" title=\"view author\">Gerard Way</a>\n",
       "</div>\n",
       "<div class=\"grid-item qb clearfix bqQt\" id=\"pos_1_62\">\n",
       "<a class=\"b-qt qt_106866 oncl_q\" href=\"/quotes/robert_browning_106866?src=t_music\" title=\"view quote\">\n",
       "<div style=\"display: flex;justify-content: space-between\">\n",
       "Who hears music feels his solitude peopled at once.\n",
       "<img alt=\"Share this Quote\" class=\"bq-qb-chv\" src=\"/st/img/4534226/fa/chv-r.svg\"/>\n",
       "</div>\n",
       "</a>\n",
       "<a class=\"bq-aut qa_106866 oncl_a\" href=\"/authors/robert-browning-quotes\" title=\"view author\">Robert Browning</a>\n",
       "</div>\n",
       "<div class=\"grid-item qb clearfix bqQt\" id=\"pos_1_63\">\n",
       "<a class=\"b-qt qt_153098 oncl_q\" href=\"/quotes/ludwig_van_beethoven_153098?src=t_music\" title=\"view quote\">\n",
       "<div style=\"display: flex;justify-content: space-between\">\n",
       "Music is the mediator between the spiritual and the sensual life.\n",
       "<img alt=\"Share this Quote\" class=\"bq-qb-chv\" src=\"/st/img/4534226/fa/chv-r.svg\"/>\n",
       "</div>\n",
       "</a>\n",
       "<a class=\"bq-aut qa_153098 oncl_a\" href=\"/authors/ludwig-van-beethoven-quotes\" title=\"view author\">Ludwig van Beethoven</a>\n",
       "</div>\n",
       "<div class=\"grid-item qb clearfix bqQt\" id=\"pos_1_64\">\n",
       "<div class=\"qti-listm\">\n",
       "<a class=\"oncl_q\" href=\"/quotes/nat_king_cole_315757?src=t_music\" title=\"view quote\"> <img alt=\"The people who know nothing about music are the ones always talking about it. - Nat King Cole\" class=\"bqphtgrid\" height=\"315\" id=\"qimage_315757\" loading=\"lazy\" src=\"/photos_tr/en/n/natkingcole/315757/natkingcole1.jpg\" width=\"600\"/></a>\n",
       "</div>\n",
       "<a class=\"b-qt qt_315757 oncl_q\" href=\"/quotes/nat_king_cole_315757?src=t_music\" title=\"view quote\">\n",
       "<div style=\"display: flex;justify-content: space-between\">\n",
       "The people who know nothing about music are the ones always talking about it.\n",
       "<img alt=\"Share this Quote\" class=\"bq-qb-chv\" src=\"/st/img/4534226/fa/chv-r.svg\"/>\n",
       "</div>\n",
       "</a>\n",
       "<a class=\"bq-aut qa_315757 oncl_a\" href=\"/authors/nat-king-cole-quotes\" title=\"view author\">Nat King Cole</a>\n",
       "</div>\n",
       "<div class=\"grid-item qb clearfix bqQt\" id=\"pos_1_65\">\n",
       "<a class=\"b-qt qt_161325 oncl_q\" href=\"/quotes/william_congreve_161325?src=t_music\" title=\"view quote\">\n",
       "<div style=\"display: flex;justify-content: space-between\">\n",
       "Music has charms to sooth a savage breast, to soften rocks, or bend a knotted oak.\n",
       "<img alt=\"Share this Quote\" class=\"bq-qb-chv\" src=\"/st/img/4534226/fa/chv-r.svg\"/>\n",
       "</div>\n",
       "</a>\n",
       "<a class=\"bq-aut qa_161325 oncl_a\" href=\"/authors/william-congreve-quotes\" title=\"view author\">William Congreve</a>\n",
       "</div>\n",
       "<div class=\"grid-item qb clearfix bqQt\" id=\"pos_1_66\">\n",
       "<a class=\"b-qt qt_250769 oncl_q\" href=\"/quotes/les_baxter_250769?src=t_music\" title=\"view quote\">\n",
       "<div style=\"display: flex;justify-content: space-between\">\n",
       "Any good music must be an innovation.\n",
       "<img alt=\"Share this Quote\" class=\"bq-qb-chv\" src=\"/st/img/4534226/fa/chv-r.svg\"/>\n",
       "</div>\n",
       "</a>\n",
       "<a class=\"bq-aut qa_250769 oncl_a\" href=\"/authors/les-baxter-quotes\" title=\"view author\">Les Baxter</a>\n",
       "</div>\n",
       "<div class=\"grid-item qb clearfix bqQt\" id=\"pos_1_67\">\n",
       "<a class=\"b-qt qt_101410 oncl_q\" href=\"/quotes/richard_m_nixon_101410?src=t_music\" title=\"view quote\">\n",
       "<div style=\"display: flex;justify-content: space-between\">\n",
       "If you want to make beautiful music, you must play the black and the white notes together.\n",
       "<img alt=\"Share this Quote\" class=\"bq-qb-chv\" src=\"/st/img/4534226/fa/chv-r.svg\"/>\n",
       "</div>\n",
       "</a>\n",
       "<a class=\"bq-aut qa_101410 oncl_a\" href=\"/authors/richard-m-nixon-quotes\" title=\"view author\">Richard M. Nixon</a>\n",
       "</div>\n",
       "</div>\n",
       "<div class=\"qbcol qbc-spc\" id=\"qbc2\"></div>\n",
       "<div class=\"qbcol qbc-spc\" id=\"qbc3\"></div>\n",
       "<div class=\"qbcol qbc-spc\" id=\"qbc4\"></div>\n",
       "<div class=\"qbcol qbc-spc\" id=\"qbc5\"></div>\n",
       "<div class=\"qbcol qbc-spc\" id=\"qbc6\"></div>\n",
       "</div>\n",
       "</div>\n",
       "<div class=\"infScrollFooter\">\n",
       "<div class=\"bq_s hideInfScroll bq_pageNumbersCont\">\n",
       "<ul class=\"pagination bq_pageNumbers pagination-centered pagination-sm\">\n",
       "<li class=\"page-item disabled\"><span class=\"page-link\">Prev</span></li>\n",
       "<li class=\"page-item active\"><span class=\"page-link\">1</span></li>\n",
       "<li class=\"page-item\"><a class=\"page-link\" href=\"/topics/music-quotes_2\">2</a></li>\n",
       "<li class=\"page-item\"><a class=\"page-link\" href=\"/topics/music-quotes_3\">3</a></li>\n",
       "<li class=\"page-item\"><a class=\"page-link\" href=\"/topics/music-quotes_4\">4</a></li>\n",
       "<li class=\"page-item disabled\"><span class=\"page-link\">..</span></li>\n",
       "<li class=\"page-item\"><a class=\"page-link\" href=\"/topics/music-quotes_17\">17</a></li>\n",
       "<li class=\"page-item\"><a class=\"page-link\" href=\"/topics/music-quotes_2\">Next</a>\n",
       "</li>\n",
       "</ul>\n",
       "</div>\n",
       "<div class=\"bq_footer_ad\">\n",
       "<div class=\"mbl_qtbox bq_300x250_edge\" id=\"div-gpt-ad-1418667263920-3-mb_footer_edge\">\n",
       "<div class=\"bq_ad_320x250_multi bqAdCollapse\" id=\"div-gpt-ad-1418667263920-3-mb_footer\"></div>\n",
       "</div>\n",
       "<div style=\"height:20px;\"></div>\n",
       "</div>\n",
       "<div class=\"container-fluid\" style=\"max-width:1350px;margin-top:25px;margin-bottom:25px;\">\n",
       "<div class=\"row\">\n",
       "<div class=\"col-12 block-style\">\n",
       "<div class=\"bq_s row\">\n",
       "<h2>Recommended Topics</h2>\n",
       "<div class=\"col-lg-3 col-6 block-sm-holder\">\n",
       "<a class=\"block-sm bq_on_link_cl\" data-xtracl=\"RT,Music,1\" href=\"/topics/motivational-quotes\"><span class=\"link-name\">Motivational<br>\n",
       "<span>Quotes</span>\n",
       "</br></span></a>\n",
       "</div>\n",
       "<div class=\"col-lg-3 col-6 block-sm-holder\">\n",
       "<a class=\"block-sm bq_on_link_cl\" data-xtracl=\"RT,Music,2\" href=\"/topics/sad-quotes\"><span class=\"link-name\">Sad<br/>\n",
       "<span>Quotes</span>\n",
       "</span></a>\n",
       "</div>\n",
       "<div class=\"col-lg-3 col-6 block-sm-holder\">\n",
       "<a class=\"block-sm bq_on_link_cl\" data-xtracl=\"RT,Music,3\" href=\"/topics/anger-quotes\"><span class=\"link-name\">Anger<br/>\n",
       "<span>Quotes</span>\n",
       "</span></a>\n",
       "</div>\n",
       "<div class=\"col-lg-3 col-6 block-sm-holder\">\n",
       "<a class=\"block-sm bq_on_link_cl\" data-xtracl=\"RT,Music,4\" href=\"/topics/best-quotes\"><span class=\"link-name\">Best<br/>\n",
       "<span>Quotes</span>\n",
       "</span></a>\n",
       "</div>\n",
       "<div class=\"col-lg-3 col-6 block-sm-holder\">\n",
       "<a class=\"block-sm bq_on_link_cl\" data-xtracl=\"RT,Music,5\" href=\"/topics/dreams-quotes\"><span class=\"link-name\">Dreams<br/>\n",
       "<span>Quotes</span>\n",
       "</span></a>\n",
       "</div>\n",
       "<div class=\"col-lg-3 col-6 block-sm-holder\">\n",
       "<a class=\"block-sm bq_on_link_cl\" data-xtracl=\"RT,Music,6\" href=\"/topics/family-quotes\"><span class=\"link-name\">Family<br/>\n",
       "<span>Quotes</span>\n",
       "</span></a>\n",
       "</div>\n",
       "<div class=\"col-lg-3 col-6 block-sm-holder\">\n",
       "<a class=\"block-sm bq_on_link_cl\" data-xtracl=\"RT,Music,7\" href=\"/topics/home-quotes\"><span class=\"link-name\">Home<br/>\n",
       "<span>Quotes</span>\n",
       "</span></a>\n",
       "</div>\n",
       "<div class=\"col-lg-3 col-6 block-sm-holder\">\n",
       "<a class=\"block-sm bq_on_link_cl\" data-xtracl=\"RT,Music,8\" href=\"/topics/humor-quotes\"><span class=\"link-name\">Humor<br/>\n",
       "<span>Quotes</span>\n",
       "</span></a>\n",
       "</div>\n",
       "</div>\n",
       "</div>\n",
       "</div>\n",
       "</div>\n",
       "</div>\n",
       "</main>\n",
       "<footer>\n",
       "<div id=\"bqBotNav\">\n",
       "<div class=\"bq_bot_nav bq-no-print\">\n",
       "<div class=\"container-fluid\" style=\"max-width: 900px\">\n",
       "<div class=\"row\">\n",
       "<div class=\"col-sm-6 col-md-3 col-12\">\n",
       "<div class=\"bq_pinweel\" style=\"float:left; position:absolute; top:-25px;\">\n",
       "<img alt=\"BrainyQuote\" class=\"bqPw\" src=\"/st/img/4534226/pinwheel.gif\"/>\n",
       "</div>\n",
       "<div style=\"height:75px\"></div>\n",
       "<div class=\"bq_s\">\n",
       "<ul class=\"footer-follow-icons\">\n",
       "<li><a aria-label=\"Follow us on Facebook\" href=\"https://www.facebook.com/BrainyQuote\" rel=\"noreferrer\" target=\"_blank\"><img alt=\"Share on Facebook\" class=\"bq-fa-full\" src=\"/st/img/4534226/fa/fb.svg\"/>\n",
       "</a></li>\n",
       "<li><a aria-label=\"Follow us on Twitter\" href=\"https://twitter.com/brainyquote\" rel=\"noreferrer\" target=\"_blank\"><img alt=\"Share on Twitter\" class=\"bq-fa-full\" src=\"/st/img/4534226/fa/tw.svg\"/></a></li>\n",
       "<li><a aria-label=\"Follow us on Pinterest\" href=\"https://pinterest.com/brainyquote\" rel=\"noreferrer\" target=\"_blank\"><img alt=\"Share on Pinterest\" class=\"bq-fa-full\" src=\"/st/img/4534226/fa/pinterest.svg\"/></a></li>\n",
       "<li class=\"follow-padding-fix\"><a aria-label=\"Follow us on Instagram\" href=\"https://instagram.com/brainyquote\" rel=\"noreferrer\" target=\"_blank\"><img alt=\"Share on Instagram\" class=\"bq-fa-full\" src=\"/st/img/4534226/fa/ig.svg\"/></a></li>\n",
       "</ul>\n",
       "<div style=\"clear:both\"></div>\n",
       "</div>\n",
       "</div>\n",
       "<div class=\"col-sm-6 col-md-3 col-12\">\n",
       "<div class=\"bq_s\">\n",
       "BrainyQuote has been providing inspirational quotes since 2001 to our worldwide community.\n",
       "</div>\n",
       "<div class=\"bq_s\">\n",
       "<h3>Quote Of The Day Feeds</h3>\n",
       "<div class=\"bqLn\"><a href=\"/feeds/todays_quote\">Javascript and RSS feeds</a></div>\n",
       "<div class=\"bqLn\"><a href=\"/feeds/wordpress_plugin\">WordPress plugin</a></div>\n",
       "<div class=\"bqLn\"><a href=\"/feeds/quote_of_the_day_email\">Quote of the Day Email</a></div>\n",
       "</div>\n",
       "</div>\n",
       "<div class=\"col-sm-6 col-md-2 col-12\">\n",
       "<div class=\"bq_s\">\n",
       "<h3>Site</h3>\n",
       "<div class=\"bqLn\"><a href=\"/\">Home</a></div>\n",
       "<div class=\"bqLn\"><a href=\"/authors\">Authors</a></div>\n",
       "<div class=\"bqLn\"><a href=\"/topics\">Topics</a></div>\n",
       "<div class=\"bqLn\"><a href=\"/quote_of_the_day\">Quote Of The Day</a></div>\n",
       "<div class=\"bqLn\"><a href=\"/top_100_quotes\">Top 100 Quotes</a></div>\n",
       "<div class=\"bqLn\"><a href=\"/profession/\">Professions</a></div>\n",
       "<div class=\"bqLn\"><a href=\"/birthdays/\">Birthdays</a></div>\n",
       "</div>\n",
       "</div>\n",
       "<div class=\"col-sm-6 col-md-2 col-12\">\n",
       "<div class=\"bq_s\">\n",
       "<h3>About</h3>\n",
       "<div class=\"bqLn\"><a href=\"/about/\">About Us</a></div>\n",
       "<div class=\"bqLn\"><a href=\"/about/contact_us\">Contact Us</a></div>\n",
       "<div class=\"bqLn\"><a href=\"/about/privacy\">Privacy</a></div>\n",
       "<div class=\"bqLn\"><a href=\"/about/terms\">Terms</a></div>\n",
       "</div>\n",
       "</div>\n",
       "<div class=\"col-sm-6 col-md-2 col-12\">\n",
       "<div class=\"bq_s\">\n",
       "<h3>Apps</h3>\n",
       "<div class=\"bqLn\"><a href=\"/apps/\">iOS app</a></div>\n",
       "<br/>\n",
       "</div>\n",
       "</div>\n",
       "</div>\n",
       "</div>\n",
       "</div>\n",
       "<div class=\"copyLangFooter langSelLink\">\n",
       "<div class=\"container\">\n",
       "<div class=\"row\">\n",
       "<div class=\"col-sm-5 col-md-5\">\n",
       "<div class=\"ftr_nav\" style=\"vertical-align:center; padding-left: 15px\"><a href=\"/about/copyright\" style=\"vertical-align:top\">Copyright</a>\n",
       "© 2001 - 2021 BrainyQuote\n",
       "</div>\n",
       "</div>\n",
       "<div class=\"col-sm-5 col-md-5 usp-footer-hide\" id=\"usp-c\">\n",
       "<div class=\"ftr_nav\" id=\"usp-footer\" style=\"vertical-align:center; padding-left: 15px;\">\n",
       "<a href=\"/ccpa\">Do Not Sell My Info</a>\n",
       "</div>\n",
       "</div>\n",
       "</div>\n",
       "</div>\n",
       "</div>\n",
       "<script type=\"application/ld+json\">\n",
       "{\n",
       "\"@context\": \"http://schema.org\",\n",
       "\"@type\": \"WebSite\",\n",
       "\"url\": \"https://www.brainyquote.com/\",\n",
       "\"name\": \"BrainyQuote\",\n",
       "\"alternateName\": \"BrainyQuote - Famous Quotes\",\n",
       "\"potentialAction\": {\n",
       "\"@type\": \"SearchAction\",\n",
       "\"target\": \"https://www.brainyquote.com/search_results?q={search_term}\",\n",
       "\"query-input\": \"required name=search_term\"\n",
       "}\n",
       "}\n",
       "</script>\n",
       "<script type=\"application/ld+json\">\n",
       "{\n",
       "\"@context\": \"http://schema.org\",\n",
       "\"@type\": \"BreadcrumbList\",\n",
       "\"itemListElement\": [\n",
       "{\n",
       "\"item\": {\n",
       "\"name\": \"Quote Topics\",\n",
       "\"@id\": \"https://www.brainyquote.com/topics\"\n",
       "},\n",
       "\"@type\": \"ListItem\",\n",
       "\"position\": 1\n",
       "},\n",
       "{\n",
       "\"item\": {\n",
       "\"name\": \"Music Quotes\",\n",
       "\"@id\": \"https://www.brainyquote.com/topics/music-quotes\"\n",
       "},\n",
       "\"@type\": \"ListItem\",\n",
       "\"position\": 2\n",
       "}\n",
       "]\n",
       "}\n",
       "</script>\n",
       "</div>\n",
       "</footer>\n",
       "<script type=\"text/javascript\">(function(){window['__CF$cv$params']={r:'691cb0a88e5d2e39',m:'SpHDz4EBLyK_4gbPmhYJqJ69JqsMY3sJgiLELtObPuM-1632158066-0-Aa2T44aCU2MhkLrk+qTSt4wgqNJkSpCIl6LVXlZd7C6EOoXai6/hbuNi3mLabIXasJYez1HWqA33ZvYFjtghLT6jTYvvkgAo6wbjDAr8c1D3pcZFefTnlRqbyo4Jzb3Aja5pbWwWf4WspzkmVYOCxo4=',s:[0xc19d4a29b4,0x448912fd99],}})();</script></body>\n",
       "</html>"
      ]
     },
     "execution_count": 73,
     "metadata": {},
     "output_type": "execute_result"
    }
   ],
   "source": [
    "soup = BeautifulSoup(data.content, 'html.parser')\n",
    "soup"
   ]
  },
  {
   "cell_type": "markdown",
   "id": "b61c279e",
   "metadata": {},
   "source": [
    "### Standard Content Extraction using using BS\n",
    "* Here we are extracting qoutes for a single category .\n",
    "* Later the same way we will customize a function that will return quotes from multiple categories."
   ]
  },
  {
   "cell_type": "code",
   "execution_count": 39,
   "id": "d6580423",
   "metadata": {},
   "outputs": [],
   "source": [
    "quotes_list_result= []\n",
    "for quote_tag in soup.find_all(title='view quote'):\n",
    "                quotes_list_result.append(quote_tag.text)"
   ]
  },
  {
   "cell_type": "code",
   "execution_count": 44,
   "id": "99c9dc1c",
   "metadata": {
    "scrolled": true
   },
   "outputs": [
    {
     "data": {
      "text/plain": [
       "[\"\\n\\nAbility is what you're capable of doing. Motivation determines what you do. Attitude determines how well you do it.\\n\\n\\n\",\n",
       " '\\n\\nA positive attitude can really make dreams come true - it did for me.\\n\\n\\n',\n",
       " '\\n\\nYour attitude, not your aptitude, will determine your altitude.\\n\\n\\n',\n",
       " '\\n\\nPeople may hear your words, but they feel your attitude.\\n\\n\\n',\n",
       " \"\\n\\nExcellence is not a skill, it's an attitude.\\n\\n\\n\",\n",
       " ' ',\n",
       " '\\n\\nActing is magical. Change your look and your attitude, and you can be anyone.\\n\\n\\n',\n",
       " \"\\n\\nMy attitude is, if someone's going to criticize me, tell me to my face.\\n\\n\\n\",\n",
       " '\\n\\nTime plays a role in almost every decision. And some decisions define your attitude about time.\\n\\n\\n',\n",
       " '\\n\\nYou cannot control what happens to you, but you can control your attitude toward what happens to you, and in that, you will be mastering change rather than allowing it to master you.\\n\\n\\n',\n",
       " '\\n\\nThe attitude is very important. Because, your behavior radiates how you feel.\\n\\n\\n',\n",
       " '\\n\\nAttitude determines the altitude of life.\\n\\n\\n',\n",
       " '\\n\\nSome people say I have attitude - maybe I do... but I think you have to. You have to believe in yourself when no one else does - that makes you a winner right there.\\n\\n\\n',\n",
       " '\\n\\nHappiness is an attitude of mind, born of the simple determination to be happy under all outward circumstances.\\n\\n\\n',\n",
       " '\\n\\nAttitude is everything.\\n\\n\\n',\n",
       " \"\\n\\nOur attitude toward life determines life's attitude towards us.\\n\\n\\n\",\n",
       " '\\n\\nAdopting the right attitude can convert a negative stress into a positive one.\\n\\n\\n',\n",
       " '\\n\\nA positive attitude causes a chain reaction of positive thoughts, events and outcomes. It is a catalyst and it sparks extraordinary results.\\n\\n\\n',\n",
       " \"\\n\\nYou know what's funny to me? Attitude.\\n\\n\\n\",\n",
       " \"\\n\\nI think it's my adventure, my trip, my journey, and I guess my attitude is, let the chips fall where they may.\\n\\n\\n\",\n",
       " \"\\n\\nChoosing to be positive and having a grateful attitude is going to determine how you're going to live your life.\\n\\n\\n\",\n",
       " \"\\n\\nWhen you ain't got no money, you gotta get an attitude.\\n\\n\\n\",\n",
       " \"\\n\\nIf your ego starts out, 'I am important, I am big, I am special,' you're in for some disappointments when you look around at what we've discovered about the universe. No, you're not big. No, you're not. You're small in time and in space. And you have this frail vessel called the human body that's limited on Earth.\\n\\n\\n\",\n",
       " ' ',\n",
       " '\\n\\nIt is our attitude at the beginning of a difficult task which, more than anything else, will affect its successful outcome.\\n\\n\\n',\n",
       " '\\n\\nThe secret of genius is to carry the spirit of the child into old age, which means never losing your enthusiasm.\\n\\n\\n',\n",
       " '\\n\\nIt is in the character of very few men to honor without envy a friend who has prospered.\\n\\n\\n',\n",
       " \"\\n\\nPink isn't just a color, it's an attitude!\\n\\n\\n\",\n",
       " '\\n\\nAttitude is a little thing that makes a big difference.\\n\\n\\n',\n",
       " '\\n\\nThe greatest discovery of my generation is that a human being can alter his life by altering his attitudes.\\n\\n\\n',\n",
       " '\\n\\nIf you are going to achieve excellence in big things, you develop the habit in little matters. Excellence is not an exception, it is a prevailing attitude.\\n\\n\\n',\n",
       " '\\n\\nWearing the correct dress for any occasion is a matter of good manners.\\n\\n\\n',\n",
       " '\\n\\nFor success, attitude is equally as important as ability.\\n\\n\\n',\n",
       " '\\n\\nBad attitudes will ruin your team.\\n\\n\\n',\n",
       " '\\n\\nSurfers have the most attitude.\\n\\n\\n',\n",
       " '\\n\\nThe biggest challenge is how to affect public attitudes and make people care.\\n\\n\\n',\n",
       " '\\n\\nYour living is determined not so much by what life brings to you as by the attitude you bring to life; not so much by what happens to you as by the way your mind looks at what happens.\\n\\n\\n',\n",
       " \"\\n\\nIt is not the body's posture, but the heart's attitude that counts when we pray.\\n\\n\\n\",\n",
       " '\\n\\nCock your hat - angles are attitudes.\\n\\n\\n',\n",
       " '\\n\\nAttitudes are more important than facts.\\n\\n\\n',\n",
       " '\\n\\nWe cannot change our past. We can not change the fact that people act in a certain way. We can not change the inevitable. The only thing we can do is play on the one string we have, and that is our attitude.\\n\\n\\n',\n",
       " \"\\n\\nKeep a good attitude and do the right thing even when it's hard. When you do that you are passing the test. And God promises you your marked moments are on their way.\\n\\n\\n\",\n",
       " ' ',\n",
       " '\\n\\nGreat effort springs naturally from great attitude.\\n\\n\\n',\n",
       " '\\n\\nYou live in the image you have of the world. Every one of us lives in a different world, with different space and different time.\\n\\n\\n',\n",
       " \"\\n\\nHow do you nurture a positive attitude when all the statistics say you're a dead man? You go to work.\\n\\n\\n\",\n",
       " \"\\n\\nHaving a positive mental attitude is asking how something can be done rather than saying it can't be done.\\n\\n\\n\",\n",
       " '\\n\\nThere are no menial jobs, only menial attitudes.\\n\\n\\n',\n",
       " '\\n\\nDevelop an attitude of gratitude, and give thanks for everything that happens to you, knowing that every step forward is a step toward achieving something bigger and better than your current situation.\\n\\n\\n',\n",
       " '\\n\\nNothing can stop the man with the right mental attitude from achieving his goal; nothing on earth can help the man with the wrong mental attitude.\\n\\n\\n',\n",
       " \"\\n\\nEverything can be taken from a man but one thing: the last of human freedoms - to choose one's attitude in any given set of circumstances, to choose one's own way.\\n\\n\\n\",\n",
       " \"\\n\\nA complainer is like a Death Eater because there's a suction of negative energy. You can catch a great attitude from great people.\\n\\n\\n\",\n",
       " '\\n\\nMy attitudes have changed, but somebody would have to read all my books to find out how they have.\\n\\n\\n',\n",
       " '\\n\\nReject your sense of injury and the injury itself disappears.\\n\\n\\n',\n",
       " '\\n\\nOur future cannot depend on the government alone. The ultimate solutions lie in the attitudes and the actions of the American people.\\n\\n\\n',\n",
       " '\\n\\nMost of us start out with a positive attitude and a plan to do our best.\\n\\n\\n',\n",
       " \"\\n\\nThe greatest day in your life and mine is when we take total responsibility for our attitudes. That's the day we truly grow up.\\n\\n\\n\",\n",
       " '\\n\\nOur lives are not determined by what happens to us but how we react to what happens, not by what life brings us but the attitude we bring to life.\\n\\n\\n',\n",
       " '\\n\\nWeakness of attitude becomes weakness of character.\\n\\n\\n',\n",
       " '\\n\\nCharacter is the result of two things: mental attitude and the way we spend our time.\\n\\n\\n',\n",
       " ' ',\n",
       " '\\n\\nBut the attitude of faith is to let go, and become open to truth, whatever it might turn out to be.\\n\\n\\n',\n",
       " '\\n\\nBetween stimulus and response, there is a space where we choose our response.\\n\\n\\n',\n",
       " '\\n\\nThe remarkable thing is, we have a choice everyday regarding the attitude we will embrace for that day.\\n\\n\\n']"
      ]
     },
     "execution_count": 44,
     "metadata": {},
     "output_type": "execute_result"
    }
   ],
   "source": [
    "quotes_list_result"
   ]
  },
  {
   "cell_type": "markdown",
   "id": "71542d65",
   "metadata": {},
   "source": [
    "#### Categories to extract data(Customizable)"
   ]
  },
  {
   "cell_type": "code",
   "execution_count": 79,
   "id": "bee33f30",
   "metadata": {},
   "outputs": [],
   "source": [
    "url_list =['https://www.brainyquote.com/topics/motivational-quotes',\n",
    "            'https://www.brainyquote.com/topics/attitude-quotes',\n",
    "            'https://www.brainyquote.com/topics/relationship-quotes',\n",
    "            'https://www.brainyquote.com/topics/music-quotes',\n",
    "          'https://www.brainyquote.com/topics/motivational-quotes_2',\n",
    "            'https://www.brainyquote.com/topics/attitude-quotes_2',\n",
    "            'https://www.brainyquote.com/topics/relationship-quotes_2',\n",
    "            'https://www.brainyquote.com/topics/music-quotes_2',\n",
    "          'https://www.brainyquote.com/topics/motivational-quotes_3',\n",
    "            'https://www.brainyquote.com/topics/attitude-quotes_3',\n",
    "            'https://www.brainyquote.com/topics/relationship-quotes_3',\n",
    "            'https://www.brainyquote.com/topics/music-quotes_3',\n",
    "          'https://www.brainyquote.com/topics/motivational-quotes_4',\n",
    "            'https://www.brainyquote.com/topics/attitude-quotes_4',\n",
    "            'https://www.brainyquote.com/topics/relationship-quotes_4',\n",
    "            'https://www.brainyquote.com/topics/music-quotes_4']"
   ]
  },
  {
   "cell_type": "code",
   "execution_count": 80,
   "id": "10fc81ef",
   "metadata": {},
   "outputs": [
    {
     "name": "stdout",
     "output_type": "stream",
     "text": [
      "Help on function quotesScrapper in module __main__:\n",
      "\n",
      "quotesScrapper(url_list)\n",
      "    @author: Anjum Hassan\n",
      "    This method takes url list as arugment and returns quotes for all categories in the list as dataframe\n",
      "\n"
     ]
    }
   ],
   "source": [
    "\n",
    "def quotesScrapper(url_list): \n",
    "    \"\"\"\n",
    "     @author: Anjum Hassan\n",
    "     This method takes url list as arugment and returns quotes for all categories in the list as dataframe\n",
    "    \"\"\"\n",
    "    all_quotes =[]\n",
    "    \n",
    "    for url in url_list:\n",
    "        quotes_url = url.split('/')\n",
    "        quotes_cat = quotes_url[-1]\n",
    "\n",
    "        data = requests.get(url)    \n",
    "        soup = BeautifulSoup(data.content, 'html.parser')\n",
    "\n",
    "        ind_quotes =[{'quotes':quote_tag.text,'quotes_category':quotes_cat} for quote_tag in soup.find_all(title='view quote')]\n",
    "\n",
    "        all_quotes.extend(ind_quotes)\n",
    "\n",
    "    df_qoutes = pd.DataFrame(all_quotes)\n",
    "    return df_qoutes   \n",
    "\n",
    "help(quotesScrapper)"
   ]
  },
  {
   "cell_type": "markdown",
   "id": "91d95c9f",
   "metadata": {},
   "source": [
    "#### Raw quotes extraction using custom function"
   ]
  },
  {
   "cell_type": "code",
   "execution_count": 82,
   "id": "3b6a0c17",
   "metadata": {},
   "outputs": [
    {
     "data": {
      "text/html": [
       "<div>\n",
       "<style scoped>\n",
       "    .dataframe tbody tr th:only-of-type {\n",
       "        vertical-align: middle;\n",
       "    }\n",
       "\n",
       "    .dataframe tbody tr th {\n",
       "        vertical-align: top;\n",
       "    }\n",
       "\n",
       "    .dataframe thead th {\n",
       "        text-align: right;\n",
       "    }\n",
       "</style>\n",
       "<table border=\"1\" class=\"dataframe\">\n",
       "  <thead>\n",
       "    <tr style=\"text-align: right;\">\n",
       "      <th></th>\n",
       "      <th>quotes</th>\n",
       "      <th>quotes_category</th>\n",
       "    </tr>\n",
       "  </thead>\n",
       "  <tbody>\n",
       "    <tr>\n",
       "      <th>0</th>\n",
       "      <td>\\n\\nGood, better, best. Never let it rest. 'Ti...</td>\n",
       "      <td>motivational-quotes</td>\n",
       "    </tr>\n",
       "    <tr>\n",
       "      <th>1</th>\n",
       "      <td>\\n\\nIt always seems impossible until it's done...</td>\n",
       "      <td>motivational-quotes</td>\n",
       "    </tr>\n",
       "    <tr>\n",
       "      <th>2</th>\n",
       "      <td>\\n\\nLife is 10% what happens to you and 90% ho...</td>\n",
       "      <td>motivational-quotes</td>\n",
       "    </tr>\n",
       "    <tr>\n",
       "      <th>3</th>\n",
       "      <td>\\n\\nStart where you are. Use what you have. Do...</td>\n",
       "      <td>motivational-quotes</td>\n",
       "    </tr>\n",
       "    <tr>\n",
       "      <th>4</th>\n",
       "      <td>\\n\\nWhen something is important enough, you do...</td>\n",
       "      <td>motivational-quotes</td>\n",
       "    </tr>\n",
       "    <tr>\n",
       "      <th>...</th>\n",
       "      <td>...</td>\n",
       "      <td>...</td>\n",
       "    </tr>\n",
       "    <tr>\n",
       "      <th>1009</th>\n",
       "      <td>\\n\\nMusic videos are like tools that young art...</td>\n",
       "      <td>music-quotes_4</td>\n",
       "    </tr>\n",
       "    <tr>\n",
       "      <th>1010</th>\n",
       "      <td>\\n\\nA sense of the universe, a sense of the al...</td>\n",
       "      <td>music-quotes_4</td>\n",
       "    </tr>\n",
       "    <tr>\n",
       "      <th>1011</th>\n",
       "      <td>\\n\\nI don't consider myself a great drummer. I...</td>\n",
       "      <td>music-quotes_4</td>\n",
       "    </tr>\n",
       "    <tr>\n",
       "      <th>1012</th>\n",
       "      <td>\\n\\nOld music used to mean something. There is...</td>\n",
       "      <td>music-quotes_4</td>\n",
       "    </tr>\n",
       "    <tr>\n",
       "      <th>1013</th>\n",
       "      <td>\\n\\nMusic's always been really cathartic. It's...</td>\n",
       "      <td>music-quotes_4</td>\n",
       "    </tr>\n",
       "  </tbody>\n",
       "</table>\n",
       "<p>1014 rows × 2 columns</p>\n",
       "</div>"
      ],
      "text/plain": [
       "                                                 quotes      quotes_category\n",
       "0     \\n\\nGood, better, best. Never let it rest. 'Ti...  motivational-quotes\n",
       "1     \\n\\nIt always seems impossible until it's done...  motivational-quotes\n",
       "2     \\n\\nLife is 10% what happens to you and 90% ho...  motivational-quotes\n",
       "3     \\n\\nStart where you are. Use what you have. Do...  motivational-quotes\n",
       "4     \\n\\nWhen something is important enough, you do...  motivational-quotes\n",
       "...                                                 ...                  ...\n",
       "1009  \\n\\nMusic videos are like tools that young art...       music-quotes_4\n",
       "1010  \\n\\nA sense of the universe, a sense of the al...       music-quotes_4\n",
       "1011  \\n\\nI don't consider myself a great drummer. I...       music-quotes_4\n",
       "1012  \\n\\nOld music used to mean something. There is...       music-quotes_4\n",
       "1013  \\n\\nMusic's always been really cathartic. It's...       music-quotes_4\n",
       "\n",
       "[1014 rows x 2 columns]"
      ]
     },
     "execution_count": 82,
     "metadata": {},
     "output_type": "execute_result"
    }
   ],
   "source": [
    "df = quotesScrapper(url_list)\n",
    "df"
   ]
  },
  {
   "cell_type": "code",
   "execution_count": 83,
   "id": "892d464c",
   "metadata": {},
   "outputs": [],
   "source": [
    "df['quotes_category'] = df['quotes_category'].apply(lambda x : x.split('-',1)[0])"
   ]
  },
  {
   "cell_type": "code",
   "execution_count": 85,
   "id": "4f854abf",
   "metadata": {},
   "outputs": [
    {
     "data": {
      "text/html": [
       "<div>\n",
       "<style scoped>\n",
       "    .dataframe tbody tr th:only-of-type {\n",
       "        vertical-align: middle;\n",
       "    }\n",
       "\n",
       "    .dataframe tbody tr th {\n",
       "        vertical-align: top;\n",
       "    }\n",
       "\n",
       "    .dataframe thead th {\n",
       "        text-align: right;\n",
       "    }\n",
       "</style>\n",
       "<table border=\"1\" class=\"dataframe\">\n",
       "  <thead>\n",
       "    <tr style=\"text-align: right;\">\n",
       "      <th></th>\n",
       "      <th>quotes</th>\n",
       "      <th>quotes_category</th>\n",
       "    </tr>\n",
       "  </thead>\n",
       "  <tbody>\n",
       "    <tr>\n",
       "      <th>0</th>\n",
       "      <td>\\n\\nGood, better, best. Never let it rest. 'Ti...</td>\n",
       "      <td>motivational</td>\n",
       "    </tr>\n",
       "    <tr>\n",
       "      <th>1</th>\n",
       "      <td>\\n\\nIt always seems impossible until it's done...</td>\n",
       "      <td>motivational</td>\n",
       "    </tr>\n",
       "    <tr>\n",
       "      <th>2</th>\n",
       "      <td>\\n\\nLife is 10% what happens to you and 90% ho...</td>\n",
       "      <td>motivational</td>\n",
       "    </tr>\n",
       "    <tr>\n",
       "      <th>3</th>\n",
       "      <td>\\n\\nStart where you are. Use what you have. Do...</td>\n",
       "      <td>motivational</td>\n",
       "    </tr>\n",
       "    <tr>\n",
       "      <th>4</th>\n",
       "      <td>\\n\\nWhen something is important enough, you do...</td>\n",
       "      <td>motivational</td>\n",
       "    </tr>\n",
       "  </tbody>\n",
       "</table>\n",
       "</div>"
      ],
      "text/plain": [
       "                                              quotes quotes_category\n",
       "0  \\n\\nGood, better, best. Never let it rest. 'Ti...    motivational\n",
       "1  \\n\\nIt always seems impossible until it's done...    motivational\n",
       "2  \\n\\nLife is 10% what happens to you and 90% ho...    motivational\n",
       "3  \\n\\nStart where you are. Use what you have. Do...    motivational\n",
       "4  \\n\\nWhen something is important enough, you do...    motivational"
      ]
     },
     "execution_count": 85,
     "metadata": {},
     "output_type": "execute_result"
    }
   ],
   "source": [
    "df.head()"
   ]
  },
  {
   "cell_type": "markdown",
   "id": "bc1dc114",
   "metadata": {},
   "source": [
    "#### Text wrangling and pre-processing\n",
    "* Standard steps for text processing before classification:\n",
    "   * Parse data using request(RAW) and beautiful soup (HTML parsing) and get in  data frame.\n",
    "   * Remove HTML parser.\n",
    "   * Removing accented letter.\n",
    "   * Removing special characters.\n",
    "   * Apply lemmatization , stemming.\n",
    "   * Remove stop-words excluding domain specific keywords. "
   ]
  },
  {
   "cell_type": "code",
   "execution_count": 111,
   "id": "856dade5",
   "metadata": {},
   "outputs": [
    {
     "name": "stderr",
     "output_type": "stream",
     "text": [
      "[nltk_data] Downloading package stopwords to\n",
      "[nltk_data]     C:\\Users\\Anjum\\AppData\\Roaming\\nltk_data...\n",
      "[nltk_data]   Package stopwords is already up-to-date!\n"
     ]
    }
   ],
   "source": [
    "import spacy\n",
    "import nltk\n",
    "from nltk.tokenize.toktok import ToktokTokenizer\n",
    "import re\n",
    "import unicodedata\n"
   ]
  },
  {
   "cell_type": "markdown",
   "id": "0bb63d23",
   "metadata": {},
   "source": [
    "#### Downloading stop-words and NLP contents"
   ]
  },
  {
   "cell_type": "code",
   "execution_count": 112,
   "id": "d17a7968",
   "metadata": {},
   "outputs": [
    {
     "name": "stderr",
     "output_type": "stream",
     "text": [
      "[nltk_data] Downloading package stopwords to\n",
      "[nltk_data]     C:\\Users\\Anjum\\AppData\\Roaming\\nltk_data...\n",
      "[nltk_data]   Package stopwords is already up-to-date!\n"
     ]
    }
   ],
   "source": [
    "nlp = spacy.load('en_core_web_sm')\n",
    "nltk.download('stopwords')\n",
    "\n",
    "stopword_list = nltk.corpus.stopwords.words('english')\n",
    "\n",
    "# custom removal of stopwords that may helkp to identify sentiments.\n",
    "stopword_list.remove('no') \n",
    "stopword_list.remove('not')"
   ]
  },
  {
   "cell_type": "markdown",
   "id": "8a88a92b",
   "metadata": {},
   "source": [
    "#### Remove HTML Tags"
   ]
  },
  {
   "cell_type": "code",
   "execution_count": 90,
   "id": "fcfef733",
   "metadata": {},
   "outputs": [],
   "source": [
    "def strip_html_tags(text):\n",
    "    soup = BeautifulSoup(text, \"html.parser\")\n",
    "    stripped_text = soup.get_text()\n",
    "    return stripped_text"
   ]
  },
  {
   "cell_type": "code",
   "execution_count": 91,
   "id": "e3a9c65d",
   "metadata": {},
   "outputs": [],
   "source": [
    "df['quotes'] = df['quotes'].apply(strip_html_tags)"
   ]
  },
  {
   "cell_type": "code",
   "execution_count": 92,
   "id": "9db3811b",
   "metadata": {},
   "outputs": [
    {
     "data": {
      "text/html": [
       "<div>\n",
       "<style scoped>\n",
       "    .dataframe tbody tr th:only-of-type {\n",
       "        vertical-align: middle;\n",
       "    }\n",
       "\n",
       "    .dataframe tbody tr th {\n",
       "        vertical-align: top;\n",
       "    }\n",
       "\n",
       "    .dataframe thead th {\n",
       "        text-align: right;\n",
       "    }\n",
       "</style>\n",
       "<table border=\"1\" class=\"dataframe\">\n",
       "  <thead>\n",
       "    <tr style=\"text-align: right;\">\n",
       "      <th></th>\n",
       "      <th>quotes</th>\n",
       "      <th>quotes_category</th>\n",
       "    </tr>\n",
       "  </thead>\n",
       "  <tbody>\n",
       "    <tr>\n",
       "      <th>0</th>\n",
       "      <td>\\n\\nGood, better, best. Never let it rest. 'Ti...</td>\n",
       "      <td>motivational</td>\n",
       "    </tr>\n",
       "    <tr>\n",
       "      <th>1</th>\n",
       "      <td>\\n\\nIt always seems impossible until it's done...</td>\n",
       "      <td>motivational</td>\n",
       "    </tr>\n",
       "    <tr>\n",
       "      <th>2</th>\n",
       "      <td>\\n\\nLife is 10% what happens to you and 90% ho...</td>\n",
       "      <td>motivational</td>\n",
       "    </tr>\n",
       "    <tr>\n",
       "      <th>3</th>\n",
       "      <td>\\n\\nStart where you are. Use what you have. Do...</td>\n",
       "      <td>motivational</td>\n",
       "    </tr>\n",
       "    <tr>\n",
       "      <th>4</th>\n",
       "      <td>\\n\\nWhen something is important enough, you do...</td>\n",
       "      <td>motivational</td>\n",
       "    </tr>\n",
       "  </tbody>\n",
       "</table>\n",
       "</div>"
      ],
      "text/plain": [
       "                                              quotes quotes_category\n",
       "0  \\n\\nGood, better, best. Never let it rest. 'Ti...    motivational\n",
       "1  \\n\\nIt always seems impossible until it's done...    motivational\n",
       "2  \\n\\nLife is 10% what happens to you and 90% ho...    motivational\n",
       "3  \\n\\nStart where you are. Use what you have. Do...    motivational\n",
       "4  \\n\\nWhen something is important enough, you do...    motivational"
      ]
     },
     "execution_count": 92,
     "metadata": {},
     "output_type": "execute_result"
    }
   ],
   "source": [
    "df.head()"
   ]
  },
  {
   "cell_type": "markdown",
   "id": "7103be48",
   "metadata": {},
   "source": [
    "#### Remove accented characters"
   ]
  },
  {
   "cell_type": "code",
   "execution_count": 93,
   "id": "8ad569a5",
   "metadata": {},
   "outputs": [],
   "source": [
    "def remove_accented_chars(text):\n",
    "    text = unicodedata.normalize('NFKD', text).encode('ascii', 'ignore').decode('utf-8', 'ignore')\n",
    "    return text"
   ]
  },
  {
   "cell_type": "code",
   "execution_count": 94,
   "id": "13ab6e1a",
   "metadata": {},
   "outputs": [],
   "source": [
    "df['quotes'] = df['quotes'].apply(remove_accented_chars)"
   ]
  },
  {
   "cell_type": "code",
   "execution_count": 95,
   "id": "ef335b85",
   "metadata": {},
   "outputs": [
    {
     "data": {
      "text/html": [
       "<div>\n",
       "<style scoped>\n",
       "    .dataframe tbody tr th:only-of-type {\n",
       "        vertical-align: middle;\n",
       "    }\n",
       "\n",
       "    .dataframe tbody tr th {\n",
       "        vertical-align: top;\n",
       "    }\n",
       "\n",
       "    .dataframe thead th {\n",
       "        text-align: right;\n",
       "    }\n",
       "</style>\n",
       "<table border=\"1\" class=\"dataframe\">\n",
       "  <thead>\n",
       "    <tr style=\"text-align: right;\">\n",
       "      <th></th>\n",
       "      <th>quotes</th>\n",
       "      <th>quotes_category</th>\n",
       "    </tr>\n",
       "  </thead>\n",
       "  <tbody>\n",
       "    <tr>\n",
       "      <th>0</th>\n",
       "      <td>\\n\\nGood, better, best. Never let it rest. 'Ti...</td>\n",
       "      <td>motivational</td>\n",
       "    </tr>\n",
       "    <tr>\n",
       "      <th>1</th>\n",
       "      <td>\\n\\nIt always seems impossible until it's done...</td>\n",
       "      <td>motivational</td>\n",
       "    </tr>\n",
       "    <tr>\n",
       "      <th>2</th>\n",
       "      <td>\\n\\nLife is 10% what happens to you and 90% ho...</td>\n",
       "      <td>motivational</td>\n",
       "    </tr>\n",
       "    <tr>\n",
       "      <th>3</th>\n",
       "      <td>\\n\\nStart where you are. Use what you have. Do...</td>\n",
       "      <td>motivational</td>\n",
       "    </tr>\n",
       "    <tr>\n",
       "      <th>4</th>\n",
       "      <td>\\n\\nWhen something is important enough, you do...</td>\n",
       "      <td>motivational</td>\n",
       "    </tr>\n",
       "  </tbody>\n",
       "</table>\n",
       "</div>"
      ],
      "text/plain": [
       "                                              quotes quotes_category\n",
       "0  \\n\\nGood, better, best. Never let it rest. 'Ti...    motivational\n",
       "1  \\n\\nIt always seems impossible until it's done...    motivational\n",
       "2  \\n\\nLife is 10% what happens to you and 90% ho...    motivational\n",
       "3  \\n\\nStart where you are. Use what you have. Do...    motivational\n",
       "4  \\n\\nWhen something is important enough, you do...    motivational"
      ]
     },
     "execution_count": 95,
     "metadata": {},
     "output_type": "execute_result"
    }
   ],
   "source": [
    "df.head()"
   ]
  },
  {
   "cell_type": "markdown",
   "id": "7e92e2d8",
   "metadata": {},
   "source": [
    "#### Remove special characters"
   ]
  },
  {
   "cell_type": "code",
   "execution_count": 105,
   "id": "0f232ef6",
   "metadata": {},
   "outputs": [],
   "source": [
    "def remove_special_characters(text, remove_digits=False):\n",
    "    pattern = r'[^a-zA-z0-9\\s]' if not remove_digits else r'[^a-zA-z\\s]'\n",
    "    text = re.sub(pattern, '', text)\n",
    "    text = re.sub(\"\\n\",\"\",text)\n",
    "    return text"
   ]
  },
  {
   "cell_type": "code",
   "execution_count": 106,
   "id": "568bf06d",
   "metadata": {},
   "outputs": [],
   "source": [
    "df['quotes'] = df['quotes'].apply(remove_special_characters)"
   ]
  },
  {
   "cell_type": "code",
   "execution_count": 107,
   "id": "366e4174",
   "metadata": {},
   "outputs": [
    {
     "data": {
      "text/html": [
       "<div>\n",
       "<style scoped>\n",
       "    .dataframe tbody tr th:only-of-type {\n",
       "        vertical-align: middle;\n",
       "    }\n",
       "\n",
       "    .dataframe tbody tr th {\n",
       "        vertical-align: top;\n",
       "    }\n",
       "\n",
       "    .dataframe thead th {\n",
       "        text-align: right;\n",
       "    }\n",
       "</style>\n",
       "<table border=\"1\" class=\"dataframe\">\n",
       "  <thead>\n",
       "    <tr style=\"text-align: right;\">\n",
       "      <th></th>\n",
       "      <th>quotes</th>\n",
       "      <th>quotes_category</th>\n",
       "    </tr>\n",
       "  </thead>\n",
       "  <tbody>\n",
       "    <tr>\n",
       "      <th>0</th>\n",
       "      <td>Good better best Never let it rest Til your go...</td>\n",
       "      <td>motivational</td>\n",
       "    </tr>\n",
       "    <tr>\n",
       "      <th>1</th>\n",
       "      <td>It always seems impossible until its done</td>\n",
       "      <td>motivational</td>\n",
       "    </tr>\n",
       "    <tr>\n",
       "      <th>2</th>\n",
       "      <td>Life is 10 what happens to you and 90 how you ...</td>\n",
       "      <td>motivational</td>\n",
       "    </tr>\n",
       "    <tr>\n",
       "      <th>3</th>\n",
       "      <td>Start where you are Use what you have Do what ...</td>\n",
       "      <td>motivational</td>\n",
       "    </tr>\n",
       "    <tr>\n",
       "      <th>4</th>\n",
       "      <td>When something is important enough you do it e...</td>\n",
       "      <td>motivational</td>\n",
       "    </tr>\n",
       "  </tbody>\n",
       "</table>\n",
       "</div>"
      ],
      "text/plain": [
       "                                              quotes quotes_category\n",
       "0  Good better best Never let it rest Til your go...    motivational\n",
       "1          It always seems impossible until its done    motivational\n",
       "2  Life is 10 what happens to you and 90 how you ...    motivational\n",
       "3  Start where you are Use what you have Do what ...    motivational\n",
       "4  When something is important enough you do it e...    motivational"
      ]
     },
     "execution_count": 107,
     "metadata": {},
     "output_type": "execute_result"
    }
   ],
   "source": [
    "df.head()"
   ]
  },
  {
   "cell_type": "markdown",
   "id": "3a3c737e",
   "metadata": {},
   "source": [
    "#### Text Lemmatization \n",
    "* As we wanted to extract only dictionary words , we used lemmatization instead of stemming."
   ]
  },
  {
   "cell_type": "code",
   "execution_count": 108,
   "id": "65ee789d",
   "metadata": {},
   "outputs": [],
   "source": [
    "def lemmatize_text(text):\n",
    "    text = nlp(text)\n",
    "    text = ' '.join([word.lemma_ if word.lemma_ != '-PRON-' else word.text for word in text])\n",
    "    return text"
   ]
  },
  {
   "cell_type": "code",
   "execution_count": 109,
   "id": "43dd89f3",
   "metadata": {},
   "outputs": [],
   "source": [
    "df['quotes'] = df['quotes'].apply(lemmatize_text)"
   ]
  },
  {
   "cell_type": "code",
   "execution_count": 110,
   "id": "c31d2ab0",
   "metadata": {},
   "outputs": [
    {
     "data": {
      "text/html": [
       "<div>\n",
       "<style scoped>\n",
       "    .dataframe tbody tr th:only-of-type {\n",
       "        vertical-align: middle;\n",
       "    }\n",
       "\n",
       "    .dataframe tbody tr th {\n",
       "        vertical-align: top;\n",
       "    }\n",
       "\n",
       "    .dataframe thead th {\n",
       "        text-align: right;\n",
       "    }\n",
       "</style>\n",
       "<table border=\"1\" class=\"dataframe\">\n",
       "  <thead>\n",
       "    <tr style=\"text-align: right;\">\n",
       "      <th></th>\n",
       "      <th>quotes</th>\n",
       "      <th>quotes_category</th>\n",
       "    </tr>\n",
       "  </thead>\n",
       "  <tbody>\n",
       "    <tr>\n",
       "      <th>0</th>\n",
       "      <td>good well well never let it rest Til your good...</td>\n",
       "      <td>motivational</td>\n",
       "    </tr>\n",
       "    <tr>\n",
       "      <th>1</th>\n",
       "      <td>it always seem impossible until its do</td>\n",
       "      <td>motivational</td>\n",
       "    </tr>\n",
       "    <tr>\n",
       "      <th>2</th>\n",
       "      <td>life be 10 what happen to you and 90 how you r...</td>\n",
       "      <td>motivational</td>\n",
       "    </tr>\n",
       "    <tr>\n",
       "      <th>3</th>\n",
       "      <td>start where you be use what you have do what y...</td>\n",
       "      <td>motivational</td>\n",
       "    </tr>\n",
       "    <tr>\n",
       "      <th>4</th>\n",
       "      <td>when something be important enough you do it e...</td>\n",
       "      <td>motivational</td>\n",
       "    </tr>\n",
       "  </tbody>\n",
       "</table>\n",
       "</div>"
      ],
      "text/plain": [
       "                                              quotes quotes_category\n",
       "0  good well well never let it rest Til your good...    motivational\n",
       "1             it always seem impossible until its do    motivational\n",
       "2  life be 10 what happen to you and 90 how you r...    motivational\n",
       "3  start where you be use what you have do what y...    motivational\n",
       "4  when something be important enough you do it e...    motivational"
      ]
     },
     "execution_count": 110,
     "metadata": {},
     "output_type": "execute_result"
    }
   ],
   "source": [
    "df.head()"
   ]
  },
  {
   "cell_type": "markdown",
   "id": "0889b038",
   "metadata": {},
   "source": [
    "### Remove stopwords"
   ]
  },
  {
   "cell_type": "code",
   "execution_count": 116,
   "id": "02ce4ad1",
   "metadata": {},
   "outputs": [],
   "source": [
    "def remove_stopwords(text, is_lower_case=False):\n",
    "    tokenizer = ToktokTokenizer()\n",
    "    tokens = tokenizer.tokenize(text)\n",
    "    tokens = [token.strip() for token in tokens]\n",
    "    if is_lower_case:\n",
    "        filtered_tokens = [token for token in tokens if token not in stopword_list]\n",
    "    else:\n",
    "        filtered_tokens = [token for token in tokens if token.lower() not in stopword_list]\n",
    "    filtered_text = ' '.join(filtered_tokens)    \n",
    "    return filtered_text"
   ]
  },
  {
   "cell_type": "code",
   "execution_count": 117,
   "id": "577224a7",
   "metadata": {},
   "outputs": [],
   "source": [
    "df['quotes'] = df['quotes'].apply(remove_stopwords)"
   ]
  },
  {
   "cell_type": "code",
   "execution_count": 118,
   "id": "88b9709c",
   "metadata": {},
   "outputs": [
    {
     "data": {
      "text/html": [
       "<div>\n",
       "<style scoped>\n",
       "    .dataframe tbody tr th:only-of-type {\n",
       "        vertical-align: middle;\n",
       "    }\n",
       "\n",
       "    .dataframe tbody tr th {\n",
       "        vertical-align: top;\n",
       "    }\n",
       "\n",
       "    .dataframe thead th {\n",
       "        text-align: right;\n",
       "    }\n",
       "</style>\n",
       "<table border=\"1\" class=\"dataframe\">\n",
       "  <thead>\n",
       "    <tr style=\"text-align: right;\">\n",
       "      <th></th>\n",
       "      <th>quotes</th>\n",
       "      <th>quotes_category</th>\n",
       "    </tr>\n",
       "  </thead>\n",
       "  <tbody>\n",
       "    <tr>\n",
       "      <th>0</th>\n",
       "      <td>good well well never let rest Til good well we...</td>\n",
       "      <td>motivational</td>\n",
       "    </tr>\n",
       "    <tr>\n",
       "      <th>1</th>\n",
       "      <td>always seem impossible</td>\n",
       "      <td>motivational</td>\n",
       "    </tr>\n",
       "    <tr>\n",
       "      <th>2</th>\n",
       "      <td>life 10 happen 90 react</td>\n",
       "      <td>motivational</td>\n",
       "    </tr>\n",
       "    <tr>\n",
       "      <th>3</th>\n",
       "      <td>start use</td>\n",
       "      <td>motivational</td>\n",
       "    </tr>\n",
       "    <tr>\n",
       "      <th>4</th>\n",
       "      <td>something important enough even odd not favor</td>\n",
       "      <td>motivational</td>\n",
       "    </tr>\n",
       "  </tbody>\n",
       "</table>\n",
       "</div>"
      ],
      "text/plain": [
       "                                              quotes quotes_category\n",
       "0  good well well never let rest Til good well we...    motivational\n",
       "1                             always seem impossible    motivational\n",
       "2                            life 10 happen 90 react    motivational\n",
       "3                                          start use    motivational\n",
       "4      something important enough even odd not favor    motivational"
      ]
     },
     "execution_count": 118,
     "metadata": {},
     "output_type": "execute_result"
    }
   ],
   "source": [
    "df.head()"
   ]
  },
  {
   "cell_type": "markdown",
   "id": "83b5a228",
   "metadata": {},
   "source": [
    "### EDA on Cleaned Text Data"
   ]
  },
  {
   "cell_type": "markdown",
   "id": "db0547f6",
   "metadata": {},
   "source": [
    "#### Named Entity Recognition"
   ]
  },
  {
   "cell_type": "code",
   "execution_count": 129,
   "id": "532d9d7c",
   "metadata": {},
   "outputs": [],
   "source": [
    "def ner_extractor(sentence_list):\n",
    "    named_entities = []\n",
    "    for sentence in sentence_list:\n",
    "        temp_entity_name = ''\n",
    "        temp_named_entity = None\n",
    "        sentence = nlp(sentence)\n",
    "        for word in sentence:\n",
    "            term = word.text \n",
    "            tag = word.ent_type_\n",
    "            if tag:\n",
    "                temp_entity_name = ' '.join([temp_entity_name, term]).strip()\n",
    "                temp_named_entity = (temp_entity_name, tag)\n",
    "            else:\n",
    "                if temp_named_entity:\n",
    "                    named_entities.append(temp_named_entity)\n",
    "                    temp_entity_name = ''\n",
    "                    temp_named_entity = None\n",
    "\n",
    "    entity_frame = pd.DataFrame(named_entities, \n",
    "                                columns=['Entity Name', 'Entity Type'])\n",
    "    return entity_frame"
   ]
  },
  {
   "cell_type": "code",
   "execution_count": 138,
   "id": "b77b85fb",
   "metadata": {},
   "outputs": [
    {
     "data": {
      "text/html": [
       "<div>\n",
       "<style scoped>\n",
       "    .dataframe tbody tr th:only-of-type {\n",
       "        vertical-align: middle;\n",
       "    }\n",
       "\n",
       "    .dataframe tbody tr th {\n",
       "        vertical-align: top;\n",
       "    }\n",
       "\n",
       "    .dataframe thead th {\n",
       "        text-align: right;\n",
       "    }\n",
       "</style>\n",
       "<table border=\"1\" class=\"dataframe\">\n",
       "  <thead>\n",
       "    <tr style=\"text-align: right;\">\n",
       "      <th></th>\n",
       "      <th>Entity Name</th>\n",
       "      <th>Entity Type</th>\n",
       "    </tr>\n",
       "  </thead>\n",
       "  <tbody>\n",
       "    <tr>\n",
       "      <th>0</th>\n",
       "      <td>10</td>\n",
       "      <td>CARDINAL</td>\n",
       "    </tr>\n",
       "    <tr>\n",
       "      <th>1</th>\n",
       "      <td>yesterday</td>\n",
       "      <td>DATE</td>\n",
       "    </tr>\n",
       "    <tr>\n",
       "      <th>2</th>\n",
       "      <td>today</td>\n",
       "      <td>DATE</td>\n",
       "    </tr>\n",
       "    <tr>\n",
       "      <th>3</th>\n",
       "      <td>one</td>\n",
       "      <td>CARDINAL</td>\n",
       "    </tr>\n",
       "    <tr>\n",
       "      <th>4</th>\n",
       "      <td>first</td>\n",
       "      <td>ORDINAL</td>\n",
       "    </tr>\n",
       "  </tbody>\n",
       "</table>\n",
       "</div>"
      ],
      "text/plain": [
       "  Entity Name Entity Type\n",
       "0          10    CARDINAL\n",
       "1   yesterday        DATE\n",
       "2       today        DATE\n",
       "3         one    CARDINAL\n",
       "4       first     ORDINAL"
      ]
     },
     "execution_count": 138,
     "metadata": {},
     "output_type": "execute_result"
    }
   ],
   "source": [
    "entity_frame = ner_extractor(df['quotes'].to_list())\n",
    "entity_frame.head()"
   ]
  },
  {
   "cell_type": "markdown",
   "id": "6f801c8a",
   "metadata": {},
   "source": [
    "#### Most frequent Named Entities "
   ]
  },
  {
   "cell_type": "code",
   "execution_count": 135,
   "id": "1e262ee9",
   "metadata": {},
   "outputs": [
    {
     "data": {
      "text/html": [
       "<div>\n",
       "<style scoped>\n",
       "    .dataframe tbody tr th:only-of-type {\n",
       "        vertical-align: middle;\n",
       "    }\n",
       "\n",
       "    .dataframe tbody tr th {\n",
       "        vertical-align: top;\n",
       "    }\n",
       "\n",
       "    .dataframe thead th {\n",
       "        text-align: right;\n",
       "    }\n",
       "</style>\n",
       "<table border=\"1\" class=\"dataframe\">\n",
       "  <thead>\n",
       "    <tr style=\"text-align: right;\">\n",
       "      <th></th>\n",
       "      <th>Entity Name</th>\n",
       "      <th>Entity Type</th>\n",
       "      <th>Frequency</th>\n",
       "    </tr>\n",
       "  </thead>\n",
       "  <tbody>\n",
       "    <tr>\n",
       "      <th>0</th>\n",
       "      <td>one</td>\n",
       "      <td>CARDINAL</td>\n",
       "      <td>38</td>\n",
       "    </tr>\n",
       "    <tr>\n",
       "      <th>1</th>\n",
       "      <td>first</td>\n",
       "      <td>ORDINAL</td>\n",
       "      <td>15</td>\n",
       "    </tr>\n",
       "    <tr>\n",
       "      <th>2</th>\n",
       "      <td>two</td>\n",
       "      <td>CARDINAL</td>\n",
       "      <td>13</td>\n",
       "    </tr>\n",
       "    <tr>\n",
       "      <th>3</th>\n",
       "      <td>today</td>\n",
       "      <td>DATE</td>\n",
       "      <td>5</td>\n",
       "    </tr>\n",
       "    <tr>\n",
       "      <th>4</th>\n",
       "      <td>american</td>\n",
       "      <td>NORP</td>\n",
       "      <td>4</td>\n",
       "    </tr>\n",
       "  </tbody>\n",
       "</table>\n",
       "</div>"
      ],
      "text/plain": [
       "  Entity Name Entity Type  Frequency\n",
       "0         one    CARDINAL         38\n",
       "1       first     ORDINAL         15\n",
       "2         two    CARDINAL         13\n",
       "3       today        DATE          5\n",
       "4    american        NORP          4"
      ]
     },
     "execution_count": 135,
     "metadata": {},
     "output_type": "execute_result"
    }
   ],
   "source": [
    "top_entities = (entity_frame.groupby(by=['Entity Name', 'Entity Type'])\n",
    "                           .size()\n",
    "                           .sort_values(ascending=False)\n",
    "                           .reset_index().rename(columns={0 : 'Frequency'}))\n",
    "top_entities.head()"
   ]
  },
  {
   "cell_type": "markdown",
   "id": "b88aafb7",
   "metadata": {},
   "source": [
    "#### Emotion and Sentiment Analysis"
   ]
  },
  {
   "cell_type": "code",
   "execution_count": 142,
   "id": "2d304f22",
   "metadata": {},
   "outputs": [],
   "source": [
    "from afinn import Afinn\n",
    "\n",
    "def sentiment_scorer(sentence_list):\n",
    "\n",
    "    af = Afinn()\n",
    "\n",
    "    sentiment_scores = [af.score(sent) for sent in sentence_list]\n",
    "\n",
    "    sentiment_category = ['positive' if score > 0 \n",
    "                              else 'negative' if score < 0 \n",
    "                                  else 'neutral' \n",
    "                                      for score in sentiment_scores]\n",
    "\n",
    "    df_sentiment = pd.DataFrame([list(df['quotes_category']), sentiment_scores, sentiment_category]).T\n",
    "    df_sentiment.columns = ['quotes_category', 'sentiment_score', 'sentiment_category']\n",
    "    return df_sentiment\n",
    "\n"
   ]
  },
  {
   "cell_type": "code",
   "execution_count": 143,
   "id": "a6d3c768",
   "metadata": {},
   "outputs": [
    {
     "data": {
      "text/html": [
       "<div>\n",
       "<style scoped>\n",
       "    .dataframe tbody tr th:only-of-type {\n",
       "        vertical-align: middle;\n",
       "    }\n",
       "\n",
       "    .dataframe tbody tr th {\n",
       "        vertical-align: top;\n",
       "    }\n",
       "\n",
       "    .dataframe thead th {\n",
       "        text-align: right;\n",
       "    }\n",
       "</style>\n",
       "<table border=\"1\" class=\"dataframe\">\n",
       "  <thead>\n",
       "    <tr style=\"text-align: right;\">\n",
       "      <th></th>\n",
       "      <th>quotes_category</th>\n",
       "      <th>sentiment_score</th>\n",
       "      <th>sentiment_category</th>\n",
       "    </tr>\n",
       "  </thead>\n",
       "  <tbody>\n",
       "    <tr>\n",
       "      <th>0</th>\n",
       "      <td>motivational</td>\n",
       "      <td>9</td>\n",
       "      <td>positive</td>\n",
       "    </tr>\n",
       "    <tr>\n",
       "      <th>1</th>\n",
       "      <td>motivational</td>\n",
       "      <td>0</td>\n",
       "      <td>neutral</td>\n",
       "    </tr>\n",
       "    <tr>\n",
       "      <th>2</th>\n",
       "      <td>motivational</td>\n",
       "      <td>0</td>\n",
       "      <td>neutral</td>\n",
       "    </tr>\n",
       "    <tr>\n",
       "      <th>3</th>\n",
       "      <td>motivational</td>\n",
       "      <td>0</td>\n",
       "      <td>neutral</td>\n",
       "    </tr>\n",
       "    <tr>\n",
       "      <th>4</th>\n",
       "      <td>motivational</td>\n",
       "      <td>2</td>\n",
       "      <td>positive</td>\n",
       "    </tr>\n",
       "  </tbody>\n",
       "</table>\n",
       "</div>"
      ],
      "text/plain": [
       "  quotes_category sentiment_score sentiment_category\n",
       "0    motivational               9           positive\n",
       "1    motivational               0            neutral\n",
       "2    motivational               0            neutral\n",
       "3    motivational               0            neutral\n",
       "4    motivational               2           positive"
      ]
     },
     "execution_count": 143,
     "metadata": {},
     "output_type": "execute_result"
    }
   ],
   "source": [
    "sentiment_frame = sentiment_scorer(df['quotes'].to_list())\n",
    "sentiment_frame.head()"
   ]
  },
  {
   "cell_type": "code",
   "execution_count": 144,
   "id": "73786325",
   "metadata": {},
   "outputs": [
    {
     "data": {
      "image/png": "[encoded data removed]",
      "text/plain": [
       "<Figure size 1008x288 with 2 Axes>"
      ]
     },
     "metadata": {
      "needs_background": "light"
     },
     "output_type": "display_data"
    }
   ],
   "source": [
    "f, (ax1, ax2) = plt.subplots(1, 2, figsize=(14, 4))\n",
    "sp = sns.stripplot(x='quotes_category', y=\"sentiment_score\",  hue='quotes_category', data=sentiment_frame, ax=ax1)\n",
    "bp = sns.boxplot(x='quotes_category', y=\"sentiment_score\", hue='quotes_category', data=sentiment_frame, palette=\"Set2\", ax=ax2)\n",
    "t = f.suptitle('Visualizing Quotes Sentiment', fontsize=14)"
   ]
  },
  {
   "cell_type": "code",
   "execution_count": 145,
   "id": "786d48b6",
   "metadata": {},
   "outputs": [
    {
     "name": "stderr",
     "output_type": "stream",
     "text": [
      "C:\\Users\\Anjum\\anaconda3\\lib\\site-packages\\seaborn\\categorical.py:3717: UserWarning: The `factorplot` function has been renamed to `catplot`. The original name will be removed in a future release. Please update your code. Note that the default `kind` in `factorplot` (`'point'`) has changed `'strip'` in `catplot`.\n",
      "  warnings.warn(msg)\n"
     ]
    },
    {
     "data": {
      "image/png": "[encoded data removed]",
      "text/plain": [
       "<Figure size 467.5x360 with 1 Axes>"
      ]
     },
     "metadata": {
      "needs_background": "light"
     },
     "output_type": "display_data"
    }
   ],
   "source": [
    "fc = sns.factorplot(x=\"quotes_category\", hue=\"sentiment_category\", \n",
    "                    data=sentiment_frame, kind=\"count\", \n",
    "                    palette={\"negative\": \"#FE2020\", \n",
    "                             \"positive\": \"#BADD07\", \n",
    "                             \"neutral\": \"#68BFF5\"})"
   ]
  },
  {
   "cell_type": "markdown",
   "id": "d294676c",
   "metadata": {},
   "source": [
    "#### Word Cloud"
   ]
  },
  {
   "cell_type": "code",
   "execution_count": 154,
   "id": "0a87ed8c",
   "metadata": {},
   "outputs": [
    {
     "data": {
      "image/png": "[encoded data removed]",
      "text/plain": [
       "<Figure size 1080x576 with 1 Axes>"
      ]
     },
     "metadata": {
      "needs_background": "light"
     },
     "output_type": "display_data"
    }
   ],
   "source": [
    "from wordcloud import WordCloud \n",
    "\n",
    "wc = WordCloud()\n",
    "wc.generate(str(df['quotes']))\n",
    "\n",
    "plt.figure(figsize=(15,8))\n",
    "\n",
    "plt.title(\"Most frequent words used in Quotes\", fontsize=20,color='black')\n",
    "plt.imshow(wc)\n",
    "plt.show()"
   ]
  },
  {
   "cell_type": "markdown",
   "id": "bc88db69",
   "metadata": {},
   "source": [
    "#### Quotes Classification "
   ]
  },
  {
   "cell_type": "code",
   "execution_count": 156,
   "id": "fa061388",
   "metadata": {},
   "outputs": [
    {
     "data": {
      "text/plain": [
       "array(['motivational', 'attitude', 'relationship', 'music'], dtype=object)"
      ]
     },
     "execution_count": 156,
     "metadata": {},
     "output_type": "execute_result"
    }
   ],
   "source": [
    "df.quotes_category.unique()"
   ]
  },
  {
   "cell_type": "code",
   "execution_count": 157,
   "id": "31314a51",
   "metadata": {},
   "outputs": [],
   "source": [
    "df['quotes_category_label'] = df['quotes_category'].map({'motivational':0,'attitude':1,'relationship':2,'music':3})"
   ]
  },
  {
   "cell_type": "code",
   "execution_count": 158,
   "id": "00cedd37",
   "metadata": {},
   "outputs": [
    {
     "data": {
      "text/html": [
       "<div>\n",
       "<style scoped>\n",
       "    .dataframe tbody tr th:only-of-type {\n",
       "        vertical-align: middle;\n",
       "    }\n",
       "\n",
       "    .dataframe tbody tr th {\n",
       "        vertical-align: top;\n",
       "    }\n",
       "\n",
       "    .dataframe thead th {\n",
       "        text-align: right;\n",
       "    }\n",
       "</style>\n",
       "<table border=\"1\" class=\"dataframe\">\n",
       "  <thead>\n",
       "    <tr style=\"text-align: right;\">\n",
       "      <th></th>\n",
       "      <th>quotes</th>\n",
       "      <th>quotes_category</th>\n",
       "      <th>quotes_category_label</th>\n",
       "    </tr>\n",
       "  </thead>\n",
       "  <tbody>\n",
       "    <tr>\n",
       "      <th>0</th>\n",
       "      <td>good well well never let rest Til good well we...</td>\n",
       "      <td>motivational</td>\n",
       "      <td>0</td>\n",
       "    </tr>\n",
       "    <tr>\n",
       "      <th>1</th>\n",
       "      <td>always seem impossible</td>\n",
       "      <td>motivational</td>\n",
       "      <td>0</td>\n",
       "    </tr>\n",
       "    <tr>\n",
       "      <th>2</th>\n",
       "      <td>life 10 happen 90 react</td>\n",
       "      <td>motivational</td>\n",
       "      <td>0</td>\n",
       "    </tr>\n",
       "    <tr>\n",
       "      <th>3</th>\n",
       "      <td>start use</td>\n",
       "      <td>motivational</td>\n",
       "      <td>0</td>\n",
       "    </tr>\n",
       "    <tr>\n",
       "      <th>4</th>\n",
       "      <td>something important enough even odd not favor</td>\n",
       "      <td>motivational</td>\n",
       "      <td>0</td>\n",
       "    </tr>\n",
       "  </tbody>\n",
       "</table>\n",
       "</div>"
      ],
      "text/plain": [
       "                                              quotes quotes_category  \\\n",
       "0  good well well never let rest Til good well we...    motivational   \n",
       "1                             always seem impossible    motivational   \n",
       "2                            life 10 happen 90 react    motivational   \n",
       "3                                          start use    motivational   \n",
       "4      something important enough even odd not favor    motivational   \n",
       "\n",
       "   quotes_category_label  \n",
       "0                      0  \n",
       "1                      0  \n",
       "2                      0  \n",
       "3                      0  \n",
       "4                      0  "
      ]
     },
     "execution_count": 158,
     "metadata": {},
     "output_type": "execute_result"
    }
   ],
   "source": [
    "df.head()"
   ]
  },
  {
   "cell_type": "markdown",
   "id": "d8af0275",
   "metadata": {},
   "source": [
    "#### Feature and Target extraction and train-test split"
   ]
  },
  {
   "cell_type": "code",
   "execution_count": 159,
   "id": "2aa562b3",
   "metadata": {},
   "outputs": [],
   "source": [
    "y = df['quotes_category_label']\n",
    "\n",
    "X = df['quotes']"
   ]
  },
  {
   "cell_type": "code",
   "execution_count": 160,
   "id": "d3e36e40",
   "metadata": {},
   "outputs": [],
   "source": [
    "from sklearn.model_selection import train_test_split\n",
    "X_train, X_test, y_train, y_test = train_test_split(X, y, random_state=7)"
   ]
  },
  {
   "cell_type": "code",
   "execution_count": 161,
   "id": "2a4b22e6",
   "metadata": {},
   "outputs": [
    {
     "name": "stdout",
     "output_type": "stream",
     "text": [
      "(760,)\n",
      "(254,)\n",
      "(760,)\n",
      "(254,)\n"
     ]
    }
   ],
   "source": [
    "print(X_train.shape)\n",
    "print(X_test.shape)\n",
    "\n",
    "print(y_train.shape)\n",
    "print(y_test.shape)"
   ]
  },
  {
   "cell_type": "markdown",
   "id": "0d3a8323",
   "metadata": {},
   "source": [
    "#### Vectorizing Text data using TF-IDF vectorizer "
   ]
  },
  {
   "cell_type": "code",
   "execution_count": 162,
   "id": "1413863b",
   "metadata": {},
   "outputs": [],
   "source": [
    "from sklearn.feature_extraction.text import TfidfVectorizer\n",
    "\n",
    "toNumeric = TfidfVectorizer()"
   ]
  },
  {
   "cell_type": "code",
   "execution_count": 168,
   "id": "34fdd89e",
   "metadata": {},
   "outputs": [],
   "source": [
    "toNumeric.fit(X_train)\n",
    "X_train_dtm = toNumeric.transform(X_train)\n",
    "\n",
    "X_test_dtm = toNumeric.transform(X_test)"
   ]
  },
  {
   "cell_type": "markdown",
   "id": "26cdf894",
   "metadata": {},
   "source": [
    "#### Fitting Multinomial NB model"
   ]
  },
  {
   "cell_type": "code",
   "execution_count": 205,
   "id": "6e424970",
   "metadata": {},
   "outputs": [],
   "source": [
    "from sklearn.naive_bayes import GaussianNB\n",
    "mnb = MultinomialNB()"
   ]
  },
  {
   "cell_type": "code",
   "execution_count": 206,
   "id": "a2f2262b",
   "metadata": {},
   "outputs": [
    {
     "data": {
      "text/plain": [
       "MultinomialNB()"
      ]
     },
     "execution_count": 206,
     "metadata": {},
     "output_type": "execute_result"
    }
   ],
   "source": [
    "mnb.fit(X_train_dtm, y_train)"
   ]
  },
  {
   "cell_type": "code",
   "execution_count": 207,
   "id": "fa28647e",
   "metadata": {},
   "outputs": [],
   "source": [
    "y_pred_class = mnb.predict(X_test_dtm)"
   ]
  },
  {
   "cell_type": "markdown",
   "id": "0c08ab83",
   "metadata": {},
   "source": [
    "#### Model Evaluation"
   ]
  },
  {
   "cell_type": "code",
   "execution_count": 208,
   "id": "3d0cde98",
   "metadata": {},
   "outputs": [
    {
     "data": {
      "text/plain": [
       "0.7637795275590551"
      ]
     },
     "execution_count": 208,
     "metadata": {},
     "output_type": "execute_result"
    }
   ],
   "source": [
    "from sklearn import metrics\n",
    "metrics.accuracy_score(y_test, y_pred_class)"
   ]
  },
  {
   "cell_type": "code",
   "execution_count": 209,
   "id": "2269672a",
   "metadata": {},
   "outputs": [
    {
     "data": {
      "image/png": "[encoded data removed]",
      "text/plain": [
       "<Figure size 432x288 with 1 Axes>"
      ]
     },
     "metadata": {
      "needs_background": "light"
     },
     "output_type": "display_data"
    }
   ],
   "source": [
    "metrics.plot_confusion_matrix(estimator=mnb,X=X_test_dtm,y_true=y_test,\n",
    "                            cmap=\"YlGnBu\",colorbar=False,display_labels=['motivational', 'attitude', 'relationship', 'music'])\n",
    "\n",
    "plt.title('Confussion matrix for testing data(Multinomial NB)',size=10)\n",
    "plt.show()"
   ]
  },
  {
   "cell_type": "markdown",
   "id": "6d720525",
   "metadata": {},
   "source": [
    "#### Fitting Logistic Regression model"
   ]
  },
  {
   "cell_type": "code",
   "execution_count": 210,
   "id": "3613f787",
   "metadata": {},
   "outputs": [],
   "source": [
    "from sklearn.linear_model import LogisticRegression\n",
    "lr = LogisticRegression()"
   ]
  },
  {
   "cell_type": "code",
   "execution_count": 211,
   "id": "9f2dcb4c",
   "metadata": {},
   "outputs": [
    {
     "data": {
      "text/plain": [
       "LogisticRegression()"
      ]
     },
     "execution_count": 211,
     "metadata": {},
     "output_type": "execute_result"
    }
   ],
   "source": [
    "lr.fit(X_train_dtm, y_train)"
   ]
  },
  {
   "cell_type": "code",
   "execution_count": 212,
   "id": "e1d7ee69",
   "metadata": {},
   "outputs": [],
   "source": [
    "y_pred_class = lr.predict(X_test_dtm)"
   ]
  },
  {
   "cell_type": "markdown",
   "id": "731bc29f",
   "metadata": {},
   "source": [
    "#### Model Evaluation"
   ]
  },
  {
   "cell_type": "code",
   "execution_count": 213,
   "id": "3417f57c",
   "metadata": {},
   "outputs": [
    {
     "data": {
      "text/plain": [
       "0.889763779527559"
      ]
     },
     "execution_count": 213,
     "metadata": {},
     "output_type": "execute_result"
    }
   ],
   "source": [
    "from sklearn import metrics\n",
    "metrics.accuracy_score(y_test, y_pred_class)"
   ]
  },
  {
   "cell_type": "code",
   "execution_count": 203,
   "id": "a22b00c8",
   "metadata": {},
   "outputs": [
    {
     "data": {
      "image/png": "[encoded data removed]",
      "text/plain": [
       "<Figure size 432x288 with 1 Axes>"
      ]
     },
     "metadata": {
      "needs_background": "light"
     },
     "output_type": "display_data"
    }
   ],
   "source": [
    "metrics.plot_confusion_matrix(estimator=mnb,X=X_test_dtm,y_true=y_test,\n",
    "                            cmap=\"YlGnBu\",colorbar=False,display_labels=['motivational', 'attitude', 'relationship', 'music'])\n",
    "\n",
    "plt.title('Confussion matrix for testing data (Logistic Regression)',size=10)\n",
    "plt.show()"
   ]
  },
  {
   "cell_type": "markdown",
   "id": "5ccd0aca",
   "metadata": {},
   "source": [
    "* We got test accuracy of around 89% with Logistic Regression."
   ]
  },
  {
   "cell_type": "markdown",
   "id": "96e61a7a",
   "metadata": {},
   "source": [
    "#### Test with single sentence"
   ]
  },
  {
   "cell_type": "code",
   "execution_count": 214,
   "id": "810ca3a0",
   "metadata": {},
   "outputs": [],
   "source": [
    "test_string = 'A strong positive mental attitude will create more miracles than any wonder drug.'"
   ]
  },
  {
   "cell_type": "code",
   "execution_count": 222,
   "id": "8b2733ed",
   "metadata": {},
   "outputs": [
    {
     "data": {
      "text/plain": [
       "array([1], dtype=int64)"
      ]
     },
     "execution_count": 222,
     "metadata": {},
     "output_type": "execute_result"
    }
   ],
   "source": [
    "test_string_dtm = toNumeric.transform([test_string])\n",
    "\n",
    "y_pred_class = lr.predict(test_string_dtm)\n",
    "y_pred_class"
   ]
  },
  {
   "cell_type": "markdown",
   "id": "ff4161c1",
   "metadata": {},
   "source": [
    "* We tested with random quotes which belongs to attitude category.\n",
    "* Our model classified it correctly. "
   ]
  }
 ],
 "metadata": {
  "kernelspec": {
   "display_name": "Python 3 (ipykernel)",
   "language": "python",
   "name": "python3"
  },
  "language_info": {
   "codemirror_mode": {
    "name": "ipython",
    "version": 3
   },
   "file_extension": ".py",
   "mimetype": "text/x-python",
   "name": "python",
   "nbconvert_exporter": "python",
   "pygments_lexer": "ipython3",
   "version": "3.8.5"
  }
 },
 "nbformat": 4,
 "nbformat_minor": 5
}
